{
 "cells": [
  {
   "cell_type": "code",
   "execution_count": 2,
   "id": "1c815155-4f08-4834-9565-416b1762c940",
   "metadata": {},
   "outputs": [
    {
     "name": "stderr",
     "output_type": "stream",
     "text": [
      "*** Earth Engine *** Share your feedback by taking our Annual Developer Satisfaction Survey: https://google.qualtrics.com/jfe/form/SV_0JLhFqfSY1uiEaW?source=Init\n"
     ]
    }
   ],
   "source": [
    "import pandas as pd\n",
    "import geemap as gm\n",
    "import ee\n",
    "\n",
    "\n",
    "ee.Authenticate()\n",
    "ee.Initialize(project='vics-testing-gee')"
   ]
  },
  {
   "cell_type": "code",
   "execution_count": 3,
   "id": "29f08932-b723-4643-b7d6-09ea9b0408aa",
   "metadata": {},
   "outputs": [
    {
     "data": {
      "text/html": [
       "\n",
       "            <style>\n",
       "                .geemap-dark {\n",
       "                    --jp-widgets-color: white;\n",
       "                    --jp-widgets-label-color: white;\n",
       "                    --jp-ui-font-color1: white;\n",
       "                    --jp-layout-color2: #454545;\n",
       "                    background-color: #383838;\n",
       "                }\n",
       "\n",
       "                .geemap-dark .jupyter-button {\n",
       "                    --jp-layout-color3: #383838;\n",
       "                }\n",
       "\n",
       "                .geemap-colab {\n",
       "                    background-color: var(--colab-primary-surface-color, white);\n",
       "                }\n",
       "\n",
       "                .geemap-colab .jupyter-button {\n",
       "                    --jp-layout-color3: var(--colab-primary-surface-color, white);\n",
       "                }\n",
       "            </style>\n",
       "            "
      ],
      "text/plain": [
       "<IPython.core.display.HTML object>"
      ]
     },
     "metadata": {},
     "output_type": "display_data"
    }
   ],
   "source": [
    "kampung_budaya_pandanwangi_area = ee.Geometry.Polygon(\n",
    "            [[[107.06556483913806, -6.8553909408919225],\n",
    "              [107.06583842445076, -6.855614635587084],\n",
    "              [107.06609591651043, -6.85590224289769],\n",
    "              [107.06651434110744, -6.855667896213253],\n",
    "              [107.06641241716711, -6.855337680235036],\n",
    "              [107.06631049322684, -6.855092681135617],\n",
    "              [107.06628367113758, -6.855066050790071],\n",
    "              [107.06622466255001, -6.85508336050854],\n",
    "              [107.06617101837332, -6.855095344169543],\n",
    "              [107.06606373000294, -6.855087355066833],\n",
    "              [107.06594772443704, -6.855014787440743],\n",
    "              [107.06577271030285, -6.854995480464941],\n",
    "              [107.06544413973347, -6.855031431340886]]]);\n",
    "\n",
    "kampung_budaya_pandanwangi = ee.Geometry.Point([107.066538, -6.8543419]);\n"
   ]
  },
  {
   "cell_type": "code",
   "execution_count": 4,
   "id": "fd346b32-b309-4af5-8212-7527f36ea9b8",
   "metadata": {},
   "outputs": [
    {
     "data": {
      "text/html": [
       "\n",
       "            <style>\n",
       "                .geemap-dark {\n",
       "                    --jp-widgets-color: white;\n",
       "                    --jp-widgets-label-color: white;\n",
       "                    --jp-ui-font-color1: white;\n",
       "                    --jp-layout-color2: #454545;\n",
       "                    background-color: #383838;\n",
       "                }\n",
       "\n",
       "                .geemap-dark .jupyter-button {\n",
       "                    --jp-layout-color3: #383838;\n",
       "                }\n",
       "\n",
       "                .geemap-colab {\n",
       "                    background-color: var(--colab-primary-surface-color, white);\n",
       "                }\n",
       "\n",
       "                .geemap-colab .jupyter-button {\n",
       "                    --jp-layout-color3: var(--colab-primary-surface-color, white);\n",
       "                }\n",
       "            </style>\n",
       "            "
      ],
      "text/plain": [
       "<IPython.core.display.HTML object>"
      ]
     },
     "metadata": {},
     "output_type": "display_data"
    }
   ],
   "source": [
    "imageCollection = ee.ImageCollection('COPERNICUS/S2_SR_HARMONIZED').filterBounds(kampung_budaya_pandanwangi).filterDate('2024-6-01', '2024-12-31').sort('system:time_start', True);\n",
    "                  # .filter(ee.Filter.lt('CLOUDY_PIXEL_PERCENTAGE', 50)) # Filter awan di bawah 10%"
   ]
  },
  {
   "cell_type": "code",
   "execution_count": 15,
   "id": "2519f660-21cc-4ddc-b739-519ec8939f12",
   "metadata": {},
   "outputs": [
    {
     "data": {
      "text/html": [
       "\n",
       "            <style>\n",
       "                .geemap-dark {\n",
       "                    --jp-widgets-color: white;\n",
       "                    --jp-widgets-label-color: white;\n",
       "                    --jp-ui-font-color1: white;\n",
       "                    --jp-layout-color2: #454545;\n",
       "                    background-color: #383838;\n",
       "                }\n",
       "\n",
       "                .geemap-dark .jupyter-button {\n",
       "                    --jp-layout-color3: #383838;\n",
       "                }\n",
       "\n",
       "                .geemap-colab {\n",
       "                    background-color: var(--colab-primary-surface-color, white);\n",
       "                }\n",
       "\n",
       "                .geemap-colab .jupyter-button {\n",
       "                    --jp-layout-color3: var(--colab-primary-surface-color, white);\n",
       "                }\n",
       "            </style>\n",
       "            "
      ],
      "text/plain": [
       "<IPython.core.display.HTML object>"
      ]
     },
     "metadata": {},
     "output_type": "display_data"
    }
   ],
   "source": [
    "clipped_collection = imageCollection.map(lambda image: \n",
    "    image.clip(kampung_budaya_pandanwangi_area).copyProperties(image, image.propertyNames())\n",
    ")"
   ]
  },
  {
   "cell_type": "code",
   "execution_count": 16,
   "id": "5834bba6-0571-4c1c-8bc6-df5aada9de44",
   "metadata": {},
   "outputs": [
    {
     "data": {
      "text/html": [
       "\n",
       "            <style>\n",
       "                .geemap-dark {\n",
       "                    --jp-widgets-color: white;\n",
       "                    --jp-widgets-label-color: white;\n",
       "                    --jp-ui-font-color1: white;\n",
       "                    --jp-layout-color2: #454545;\n",
       "                    background-color: #383838;\n",
       "                }\n",
       "\n",
       "                .geemap-dark .jupyter-button {\n",
       "                    --jp-layout-color3: #383838;\n",
       "                }\n",
       "\n",
       "                .geemap-colab {\n",
       "                    background-color: var(--colab-primary-surface-color, white);\n",
       "                }\n",
       "\n",
       "                .geemap-colab .jupyter-button {\n",
       "                    --jp-layout-color3: var(--colab-primary-surface-color, white);\n",
       "                }\n",
       "            </style>\n",
       "            "
      ],
      "text/plain": [
       "<IPython.core.display.HTML object>"
      ]
     },
     "metadata": {},
     "output_type": "display_data"
    }
   ],
   "source": [
    "def calculate_mean(image):\n",
    "    mean_dict = image.reduceRegion(\n",
    "        reducer=ee.Reducer.mean(),\n",
    "        scale=20,\n",
    "        maxPixels=1e13\n",
    "    )\n",
    "    return image.set(mean_dict)\n",
    "\n"
   ]
  },
  {
   "cell_type": "code",
   "execution_count": 18,
   "id": "e735f95e-1aca-427a-bf1e-62080cfc3bae",
   "metadata": {},
   "outputs": [
    {
     "data": {
      "text/html": [
       "\n",
       "            <style>\n",
       "                .geemap-dark {\n",
       "                    --jp-widgets-color: white;\n",
       "                    --jp-widgets-label-color: white;\n",
       "                    --jp-ui-font-color1: white;\n",
       "                    --jp-layout-color2: #454545;\n",
       "                    background-color: #383838;\n",
       "                }\n",
       "\n",
       "                .geemap-dark .jupyter-button {\n",
       "                    --jp-layout-color3: #383838;\n",
       "                }\n",
       "\n",
       "                .geemap-colab {\n",
       "                    background-color: var(--colab-primary-surface-color, white);\n",
       "                }\n",
       "\n",
       "                .geemap-colab .jupyter-button {\n",
       "                    --jp-layout-color3: var(--colab-primary-surface-color, white);\n",
       "                }\n",
       "            </style>\n",
       "            "
      ],
      "text/plain": [
       "<IPython.core.display.HTML object>"
      ]
     },
     "metadata": {},
     "output_type": "display_data"
    },
    {
     "data": {
      "text/html": [
       "<div><style>:root {\n",
       "  --font-color-primary: var(--jp-content-font-color0, rgba(0, 0, 0, 1));\n",
       "  --font-color-secondary: var(--jp-content-font-color2, rgba(0, 0, 0, 0.6));\n",
       "  --font-color-accent: rgba(123, 31, 162, 1);\n",
       "  --border-color: var(--jp-border-color2, #e0e0e0);\n",
       "  --background-color: var(--jp-layout-color0, white);\n",
       "  --background-color-row-even: var(--jp-layout-color1, white);\n",
       "  --background-color-row-odd: var(--jp-layout-color2, #eeeeee);\n",
       "}\n",
       "\n",
       "html[theme=\"dark\"],\n",
       "body[data-theme=\"dark\"],\n",
       "body.vscode-dark {\n",
       "  --font-color-primary: rgba(255, 255, 255, 1);\n",
       "  --font-color-secondary: rgba(255, 255, 255, 0.6);\n",
       "  --font-color-accent: rgb(173, 132, 190);\n",
       "  --border-color: #2e2e2e;\n",
       "  --background-color: #111111;\n",
       "  --background-color-row-even: #111111;\n",
       "  --background-color-row-odd: #313131;\n",
       "}\n",
       "\n",
       ".ee {\n",
       "  padding: 1em;\n",
       "  line-height: 1.5em;\n",
       "  min-width: 300px;\n",
       "  max-width: 1200px;\n",
       "  overflow-y: scroll;\n",
       "  max-height: 600px;\n",
       "  border: 1px solid var(--border-color);\n",
       "  font-family: monospace;\n",
       "}\n",
       "\n",
       ".ee li {\n",
       "  list-style-type: none;\n",
       "}\n",
       "\n",
       ".ee ul {\n",
       "  padding-left: 1.5em !important;\n",
       "  margin: 0;\n",
       "}\n",
       "\n",
       ".ee > ul {\n",
       "  padding-left: 0 !important;\n",
       "}\n",
       "\n",
       ".ee-open,\n",
       ".ee-shut {\n",
       "  color: var(--font-color-secondary);\n",
       "  cursor: pointer;\n",
       "  margin: 0;\n",
       "}\n",
       "\n",
       ".ee-open:hover,\n",
       ".ee-shut:hover {\n",
       "  color: var(--font-color-primary);\n",
       "}\n",
       "\n",
       ".ee-k {\n",
       "  color: var(--font-color-accent);\n",
       "  margin-right: 6px;\n",
       "}\n",
       "\n",
       ".ee-v {\n",
       "  color: var(--font-color-primary);\n",
       "}\n",
       "\n",
       ".ee-toggle {\n",
       "  display: none;\n",
       "}\n",
       "\n",
       ".ee-shut + ul {\n",
       "  display: none;\n",
       "}\n",
       "\n",
       ".ee-open + ul {\n",
       "  display: block;\n",
       "}\n",
       "\n",
       ".ee-shut::before {\n",
       "  display: inline-block;\n",
       "  content: \"▼\";\n",
       "  margin-right: 6px;\n",
       "  transform: rotate(-90deg);\n",
       "  transition: transform 0.2s;\n",
       "}\n",
       "\n",
       ".ee-open::before {\n",
       "  transform: rotate(0deg);\n",
       "  display: inline-block;\n",
       "  content: \"▼\";\n",
       "  margin-right: 6px;\n",
       "  transition: transform 0.2s;\n",
       "}\n",
       "</style><div class='ee'><ul><li><label class='ee-shut'>List (129 elements)<input type='checkbox' class='ee-toggle'></label><ul><li><span class='ee-k'>0:</span><span class='ee-v'>TCI_B</span></li><li><span class='ee-k'>1:</span><span class='ee-v'>system:id</span></li><li><span class='ee-k'>2:</span><span class='ee-v'>B8A</span></li><li><span class='ee-k'>3:</span><span class='ee-v'>MSK_CLASSI_CIRRUS</span></li><li><span class='ee-k'>4:</span><span class='ee-v'>WVP</span></li><li><span class='ee-k'>5:</span><span class='ee-v'>system:footprint</span></li><li><span class='ee-k'>6:</span><span class='ee-v'>system:version</span></li><li><span class='ee-k'>7:</span><span class='ee-v'>MSK_CLASSI_OPAQUE</span></li><li><span class='ee-k'>8:</span><span class='ee-v'>MSK_CLASSI_SNOW_ICE</span></li><li><span class='ee-k'>9:</span><span class='ee-v'>B11</span></li><li><span class='ee-k'>10:</span><span class='ee-v'>B12</span></li><li><span class='ee-k'>11:</span><span class='ee-v'>AOT</span></li><li><span class='ee-k'>12:</span><span class='ee-v'>MSK_CLDPRB</span></li><li><span class='ee-k'>13:</span><span class='ee-v'>B1</span></li><li><span class='ee-k'>14:</span><span class='ee-v'>QA60</span></li><li><span class='ee-k'>15:</span><span class='ee-v'>B2</span></li><li><span class='ee-k'>16:</span><span class='ee-v'>B3</span></li><li><span class='ee-k'>17:</span><span class='ee-v'>B4</span></li><li><span class='ee-k'>18:</span><span class='ee-v'>TCI_R</span></li><li><span class='ee-k'>19:</span><span class='ee-v'>B5</span></li><li><span class='ee-k'>20:</span><span class='ee-v'>B6</span></li><li><span class='ee-k'>21:</span><span class='ee-v'>B7</span></li><li><span class='ee-k'>22:</span><span class='ee-v'>B8</span></li><li><span class='ee-k'>23:</span><span class='ee-v'>B9</span></li><li><span class='ee-k'>24:</span><span class='ee-v'>MSK_SNWPRB</span></li><li><span class='ee-k'>25:</span><span class='ee-v'>SCL</span></li><li><span class='ee-k'>26:</span><span class='ee-v'>TCI_G</span></li><li><span class='ee-k'>27:</span><span class='ee-v'>SPACECRAFT_NAME</span></li><li><span class='ee-k'>28:</span><span class='ee-v'>SATURATED_DEFECTIVE_PIXEL_PERCENTAGE</span></li><li><span class='ee-k'>29:</span><span class='ee-v'>BOA_ADD_OFFSET_B12</span></li><li><span class='ee-k'>30:</span><span class='ee-v'>CLOUD_SHADOW_PERCENTAGE</span></li><li><span class='ee-k'>31:</span><span class='ee-v'>SENSOR_QUALITY</span></li><li><span class='ee-k'>32:</span><span class='ee-v'>GENERATION_TIME</span></li><li><span class='ee-k'>33:</span><span class='ee-v'>CLOUDY_PIXEL_OVER_LAND_PERCENTAGE</span></li><li><span class='ee-k'>34:</span><span class='ee-v'>CLOUD_COVERAGE_ASSESSMENT</span></li><li><span class='ee-k'>35:</span><span class='ee-v'>THIN_CIRRUS_PERCENTAGE</span></li><li><span class='ee-k'>36:</span><span class='ee-v'>GRANULE_MEAN_WV</span></li><li><span class='ee-k'>37:</span><span class='ee-v'>BOA_ADD_OFFSET_B1</span></li><li><span class='ee-k'>38:</span><span class='ee-v'>BOA_ADD_OFFSET_B2</span></li><li><span class='ee-k'>39:</span><span class='ee-v'>DATASTRIP_ID</span></li><li><span class='ee-k'>40:</span><span class='ee-v'>BOA_ADD_OFFSET_B5</span></li><li><span class='ee-k'>41:</span><span class='ee-v'>BOA_ADD_OFFSET_B6</span></li><li><span class='ee-k'>42:</span><span class='ee-v'>BOA_ADD_OFFSET_B3</span></li><li><span class='ee-k'>43:</span><span class='ee-v'>BOA_ADD_OFFSET_B4</span></li><li><span class='ee-k'>44:</span><span class='ee-v'>BOA_ADD_OFFSET_B9</span></li><li><span class='ee-k'>45:</span><span class='ee-v'>BOA_ADD_OFFSET_B7</span></li><li><span class='ee-k'>46:</span><span class='ee-v'>BOA_ADD_OFFSET_B8</span></li><li><span class='ee-k'>47:</span><span class='ee-v'>GRANULE_ID</span></li><li><span class='ee-k'>48:</span><span class='ee-v'>MEAN_INCIDENCE_AZIMUTH_ANGLE_B8</span></li><li><span class='ee-k'>49:</span><span class='ee-v'>DATATAKE_TYPE</span></li><li><span class='ee-k'>50:</span><span class='ee-v'>MEAN_INCIDENCE_AZIMUTH_ANGLE_B9</span></li><li><span class='ee-k'>51:</span><span class='ee-v'>MEAN_INCIDENCE_AZIMUTH_ANGLE_B6</span></li><li><span class='ee-k'>52:</span><span class='ee-v'>MEAN_INCIDENCE_AZIMUTH_ANGLE_B7</span></li><li><span class='ee-k'>53:</span><span class='ee-v'>MEAN_INCIDENCE_AZIMUTH_ANGLE_B4</span></li><li><span class='ee-k'>54:</span><span class='ee-v'>NOT_VEGETATED_PERCENTAGE</span></li><li><span class='ee-k'>55:</span><span class='ee-v'>MEAN_INCIDENCE_AZIMUTH_ANGLE_B5</span></li><li><span class='ee-k'>56:</span><span class='ee-v'>RADIOMETRIC_QUALITY</span></li><li><span class='ee-k'>57:</span><span class='ee-v'>MEAN_INCIDENCE_AZIMUTH_ANGLE_B2</span></li><li><span class='ee-k'>58:</span><span class='ee-v'>MEAN_INCIDENCE_AZIMUTH_ANGLE_B3</span></li><li><span class='ee-k'>59:</span><span class='ee-v'>MEAN_INCIDENCE_AZIMUTH_ANGLE_B1</span></li><li><span class='ee-k'>60:</span><span class='ee-v'>HIGH_PROBA_CLOUDS_PERCENTAGE</span></li><li><span class='ee-k'>61:</span><span class='ee-v'>UNCLASSIFIED_PERCENTAGE</span></li><li><span class='ee-k'>62:</span><span class='ee-v'>OZONE_SOURCE</span></li><li><span class='ee-k'>63:</span><span class='ee-v'>GRANULE_MEAN_AOT</span></li><li><span class='ee-k'>64:</span><span class='ee-v'>BOA_ADD_OFFSET_B8A</span></li><li><span class='ee-k'>65:</span><span class='ee-v'>SNOW_ICE_PERCENTAGE</span></li><li><span class='ee-k'>66:</span><span class='ee-v'>BOA_ADD_OFFSET_B11</span></li><li><span class='ee-k'>67:</span><span class='ee-v'>BOA_ADD_OFFSET_B10</span></li><li><span class='ee-k'>68:</span><span class='ee-v'>GEOMETRIC_QUALITY</span></li><li><span class='ee-k'>69:</span><span class='ee-v'>system:asset_size</span></li><li><span class='ee-k'>70:</span><span class='ee-v'>system:index</span></li><li><span class='ee-k'>71:</span><span class='ee-v'>DATATAKE_IDENTIFIER</span></li><li><span class='ee-k'>72:</span><span class='ee-v'>AOT_RETRIEVAL_ACCURACY</span></li><li><span class='ee-k'>73:</span><span class='ee-v'>AOT_RETRIEVAL_METHOD</span></li><li><span class='ee-k'>74:</span><span class='ee-v'>MEAN_INCIDENCE_AZIMUTH_ANGLE_B8A</span></li><li><span class='ee-k'>75:</span><span class='ee-v'>MEAN_SOLAR_AZIMUTH_ANGLE</span></li><li><span class='ee-k'>76:</span><span class='ee-v'>VEGETATION_PERCENTAGE</span></li><li><span class='ee-k'>77:</span><span class='ee-v'>SOLAR_IRRADIANCE_B12</span></li><li><span class='ee-k'>78:</span><span class='ee-v'>SOLAR_IRRADIANCE_B10</span></li><li><span class='ee-k'>79:</span><span class='ee-v'>SOLAR_IRRADIANCE_B11</span></li><li><span class='ee-k'>80:</span><span class='ee-v'>SOLAR_IRRADIANCE_B8A</span></li><li><span class='ee-k'>81:</span><span class='ee-v'>FORMAT_CORRECTNESS</span></li><li><span class='ee-k'>82:</span><span class='ee-v'>system:time_end</span></li><li><span class='ee-k'>83:</span><span class='ee-v'>WATER_VAPOUR_RETRIEVAL_ACCURACY</span></li><li><span class='ee-k'>84:</span><span class='ee-v'>OZONE_VALUE</span></li><li><span class='ee-k'>85:</span><span class='ee-v'>system:time_start</span></li><li><span class='ee-k'>86:</span><span class='ee-v'>PROCESSING_BASELINE</span></li><li><span class='ee-k'>87:</span><span class='ee-v'>SENSING_ORBIT_NUMBER</span></li><li><span class='ee-k'>88:</span><span class='ee-v'>NODATA_PIXEL_PERCENTAGE</span></li><li><span class='ee-k'>89:</span><span class='ee-v'>SENSING_ORBIT_DIRECTION</span></li><li><span class='ee-k'>90:</span><span class='ee-v'>GENERAL_QUALITY</span></li><li><span class='ee-k'>91:</span><span class='ee-v'>REFLECTANCE_CONVERSION_CORRECTION</span></li><li><span class='ee-k'>92:</span><span class='ee-v'>MEDIUM_PROBA_CLOUDS_PERCENTAGE</span></li><li><span class='ee-k'>93:</span><span class='ee-v'>MEAN_INCIDENCE_ZENITH_ANGLE_B1</span></li><li><span class='ee-k'>94:</span><span class='ee-v'>MEAN_INCIDENCE_ZENITH_ANGLE_B5</span></li><li><span class='ee-k'>95:</span><span class='ee-v'>MEAN_INCIDENCE_ZENITH_ANGLE_B4</span></li><li><span class='ee-k'>96:</span><span class='ee-v'>MEAN_INCIDENCE_ZENITH_ANGLE_B3</span></li><li><span class='ee-k'>97:</span><span class='ee-v'>MEAN_INCIDENCE_ZENITH_ANGLE_B2</span></li><li><span class='ee-k'>98:</span><span class='ee-v'>MEAN_INCIDENCE_ZENITH_ANGLE_B9</span></li><li><span class='ee-k'>99:</span><span class='ee-v'>MEAN_INCIDENCE_ZENITH_ANGLE_B8</span></li><li><span class='ee-k'>100:</span><span class='ee-v'>MEAN_INCIDENCE_ZENITH_ANGLE_B7</span></li><li><span class='ee-k'>101:</span><span class='ee-v'>DARK_FEATURES_PERCENTAGE</span></li><li><span class='ee-k'>102:</span><span class='ee-v'>MEAN_INCIDENCE_ZENITH_ANGLE_B6</span></li><li><span class='ee-k'>103:</span><span class='ee-v'>MEAN_SOLAR_ZENITH_ANGLE</span></li><li><span class='ee-k'>104:</span><span class='ee-v'>MEAN_INCIDENCE_ZENITH_ANGLE_B8A</span></li><li><span class='ee-k'>105:</span><span class='ee-v'>RADIATIVE_TRANSFER_ACCURACY</span></li><li><span class='ee-k'>106:</span><span class='ee-v'>MGRS_TILE</span></li><li><span class='ee-k'>107:</span><span class='ee-v'>CLOUDY_PIXEL_PERCENTAGE</span></li><li><span class='ee-k'>108:</span><span class='ee-v'>PRODUCT_ID</span></li><li><span class='ee-k'>109:</span><span class='ee-v'>MEAN_INCIDENCE_ZENITH_ANGLE_B10</span></li><li><span class='ee-k'>110:</span><span class='ee-v'>SOLAR_IRRADIANCE_B9</span></li><li><span class='ee-k'>111:</span><span class='ee-v'>DEGRADED_MSI_DATA_PERCENTAGE</span></li><li><span class='ee-k'>112:</span><span class='ee-v'>MEAN_INCIDENCE_ZENITH_ANGLE_B11</span></li><li><span class='ee-k'>113:</span><span class='ee-v'>L2A_QUALITY</span></li><li><span class='ee-k'>114:</span><span class='ee-v'>MEAN_INCIDENCE_ZENITH_ANGLE_B12</span></li><li><span class='ee-k'>115:</span><span class='ee-v'>SOLAR_IRRADIANCE_B6</span></li><li><span class='ee-k'>116:</span><span class='ee-v'>MEAN_INCIDENCE_AZIMUTH_ANGLE_B10</span></li><li><span class='ee-k'>117:</span><span class='ee-v'>SOLAR_IRRADIANCE_B5</span></li><li><span class='ee-k'>118:</span><span class='ee-v'>MEAN_INCIDENCE_AZIMUTH_ANGLE_B11</span></li><li><span class='ee-k'>119:</span><span class='ee-v'>SOLAR_IRRADIANCE_B8</span></li><li><span class='ee-k'>120:</span><span class='ee-v'>MEAN_INCIDENCE_AZIMUTH_ANGLE_B12</span></li><li><span class='ee-k'>121:</span><span class='ee-v'>SOLAR_IRRADIANCE_B7</span></li><li><span class='ee-k'>122:</span><span class='ee-v'>SOLAR_IRRADIANCE_B2</span></li><li><span class='ee-k'>123:</span><span class='ee-v'>SOLAR_IRRADIANCE_B1</span></li><li><span class='ee-k'>124:</span><span class='ee-v'>SOLAR_IRRADIANCE_B4</span></li><li><span class='ee-k'>125:</span><span class='ee-v'>SOLAR_IRRADIANCE_B3</span></li><li><span class='ee-k'>126:</span><span class='ee-v'>WATER_PERCENTAGE</span></li><li><span class='ee-k'>127:</span><span class='ee-v'>system:bands</span></li><li><span class='ee-k'>128:</span><span class='ee-v'>system:band_names</span></li></ul></li></ul></div><script>function toggleHeader() {\n",
       "    const parent = this.parentElement;\n",
       "    parent.className = parent.className === \"ee-open\" ? \"ee-shut\" : \"ee-open\";\n",
       "}\n",
       "\n",
       "for (let c of document.getElementsByClassName(\"ee-toggle\")) {\n",
       "    c.onclick = toggleHeader;\n",
       "}</script></div>"
      ],
      "text/plain": [
       "<ee.ee_list.List at 0x21de6666210>"
      ]
     },
     "execution_count": 18,
     "metadata": {},
     "output_type": "execute_result"
    }
   ],
   "source": [
    "collection_with_means = clipped_collection.map(calculate_mean)\n",
    "\n",
    "collection_with_means.first().propertyNames()"
   ]
  },
  {
   "cell_type": "code",
   "execution_count": 45,
   "id": "e6026a9c-4599-41ac-9fe0-fc27ec26e757",
   "metadata": {},
   "outputs": [
    {
     "data": {
      "text/html": [
       "\n",
       "            <style>\n",
       "                .geemap-dark {\n",
       "                    --jp-widgets-color: white;\n",
       "                    --jp-widgets-label-color: white;\n",
       "                    --jp-ui-font-color1: white;\n",
       "                    --jp-layout-color2: #454545;\n",
       "                    background-color: #383838;\n",
       "                }\n",
       "\n",
       "                .geemap-dark .jupyter-button {\n",
       "                    --jp-layout-color3: #383838;\n",
       "                }\n",
       "\n",
       "                .geemap-colab {\n",
       "                    background-color: var(--colab-primary-surface-color, white);\n",
       "                }\n",
       "\n",
       "                .geemap-colab .jupyter-button {\n",
       "                    --jp-layout-color3: var(--colab-primary-surface-color, white);\n",
       "                }\n",
       "            </style>\n",
       "            "
      ],
      "text/plain": [
       "<IPython.core.display.HTML object>"
      ]
     },
     "metadata": {},
     "output_type": "display_data"
    },
    {
     "name": "stdout",
     "output_type": "stream",
     "text": [
      "Image ID: COPERNICUS/S2_SR_HARMONIZED/20240602T025529_20240602T031009_T48MYT, Cloud Cover: 98.545957\n",
      "Image ID: COPERNICUS/S2_SR_HARMONIZED/20240607T025531_20240607T030955_T48MYT, Cloud Cover: 17.620158\n",
      "Image ID: COPERNICUS/S2_SR_HARMONIZED/20240612T025529_20240612T031235_T48MYT, Cloud Cover: 94.114429\n",
      "Image ID: COPERNICUS/S2_SR_HARMONIZED/20240617T025531_20240617T031846_T48MYT, Cloud Cover: 5.824821\n",
      "Image ID: COPERNICUS/S2_SR_HARMONIZED/20240622T025529_20240622T031234_T48MYT, Cloud Cover: 52.752876\n",
      "Image ID: COPERNICUS/S2_SR_HARMONIZED/20240627T025531_20240627T031018_T48MYT, Cloud Cover: 41.287461\n",
      "Image ID: COPERNICUS/S2_SR_HARMONIZED/20240627T025531_20240627T031952_T48MYT, Cloud Cover: 58.07634\n",
      "Image ID: COPERNICUS/S2_SR_HARMONIZED/20240702T025529_20240702T031232_T48MYT, Cloud Cover: 57.626814\n",
      "Image ID: COPERNICUS/S2_SR_HARMONIZED/20240707T025531_20240707T031145_T48MYT, Cloud Cover: 74.361563\n",
      "Image ID: COPERNICUS/S2_SR_HARMONIZED/20240712T025529_20240712T031251_T48MYT, Cloud Cover: 11.25165\n",
      "Image ID: COPERNICUS/S2_SR_HARMONIZED/20240717T025551_20240717T031431_T48MYT, Cloud Cover: 8.538038\n",
      "Image ID: COPERNICUS/S2_SR_HARMONIZED/20240722T025529_20240722T030732_T48MYT, Cloud Cover: 3.938079\n",
      "Image ID: COPERNICUS/S2_SR_HARMONIZED/20240727T025531_20240727T031433_T48MYT, Cloud Cover: 3.617859\n",
      "Image ID: COPERNICUS/S2_SR_HARMONIZED/20240801T025529_20240801T031004_T48MYT, Cloud Cover: 36.543626\n",
      "Image ID: COPERNICUS/S2_SR_HARMONIZED/20240806T025551_20240806T031901_T48MYT, Cloud Cover: 6.920046\n",
      "Image ID: COPERNICUS/S2_SR_HARMONIZED/20240811T025529_20240811T031942_T48MYT, Cloud Cover: 22.536761\n",
      "Image ID: COPERNICUS/S2_SR_HARMONIZED/20240816T025551_20240816T031503_T48MYT, Cloud Cover: 60.152566\n",
      "Image ID: COPERNICUS/S2_SR_HARMONIZED/20240821T025529_20240821T031634_T48MYT, Cloud Cover: 3.166945\n",
      "Image ID: COPERNICUS/S2_SR_HARMONIZED/20240826T025521_20240826T031227_T48MYT, Cloud Cover: 10.804164\n",
      "Image ID: COPERNICUS/S2_SR_HARMONIZED/20240831T025529_20240831T031842_T48MYT, Cloud Cover: 6.505785\n",
      "Image ID: COPERNICUS/S2_SR_HARMONIZED/20240905T025521_20240905T031250_T48MYT, Cloud Cover: 51.22335\n",
      "Image ID: COPERNICUS/S2_SR_HARMONIZED/20240910T025529_20240910T031705_T48MYT, Cloud Cover: 94.700778\n",
      "Image ID: COPERNICUS/S2_SR_HARMONIZED/20240915T025521_20240915T031716_T48MYT, Cloud Cover: 17.164706\n",
      "Image ID: COPERNICUS/S2_SR_HARMONIZED/20240920T025519_20240920T031734_T48MYT, Cloud Cover: 14.61007\n",
      "Image ID: COPERNICUS/S2_SR_HARMONIZED/20240925T025531_20240925T031042_T48MYT, Cloud Cover: 48.046815\n",
      "Image ID: COPERNICUS/S2_SR_HARMONIZED/20240930T025529_20240930T031746_T48MYT, Cloud Cover: 13.707282\n",
      "Image ID: COPERNICUS/S2_SR_HARMONIZED/20241005T025601_20241005T031548_T48MYT, Cloud Cover: 69.060427\n",
      "Image ID: COPERNICUS/S2_SR_HARMONIZED/20241010T025529_20241010T031001_T48MYT, Cloud Cover: 28.973064\n",
      "Image ID: COPERNICUS/S2_SR_HARMONIZED/20241015T025701_20241015T031657_T48MYT, Cloud Cover: 80.470955\n",
      "Image ID: COPERNICUS/S2_SR_HARMONIZED/20241020T025649_20241020T031113_T48MYT, Cloud Cover: 77.144885\n",
      "Image ID: COPERNICUS/S2_SR_HARMONIZED/20241025T025811_20241025T031834_T48MYT, Cloud Cover: 29.882184\n",
      "Image ID: COPERNICUS/S2_SR_HARMONIZED/20241030T025749_20241030T031724_T48MYT, Cloud Cover: 27.017742\n",
      "Image ID: COPERNICUS/S2_SR_HARMONIZED/20241104T025911_20241104T031859_T48MYT, Cloud Cover: 80.576688\n",
      "Image ID: COPERNICUS/S2_SR_HARMONIZED/20241109T025829_20241109T031858_T48MYT, Cloud Cover: 70.11143\n",
      "Image ID: COPERNICUS/S2_SR_HARMONIZED/20241114T030001_20241114T031741_T48MYT, Cloud Cover: 78.114998\n"
     ]
    }
   ],
   "source": [
    "image_list = collection_with_means.toList(collection_with_means.size())\n",
    "\n",
    "for i in range(image_list.size().getInfo()):\n",
    "    image = ee.Image(image_list.get(i))\n",
    "    \n",
    "    date = ee.Date(image.get('system:time_start')).format('YYYY-MM-dd').getInfo()\n",
    "    B1 = image.get('B1').getInfo()\n",
    "    B2 = image.get('B2').getInfo()\n",
    "    B3 = image.get('B2').getInfo()\n",
    "    B4 = image.get('B2').getInfo()\n",
    "    B5 = image.get('B2').getInfo()\n",
    "    B6 = image.get('B2').getInfo()\n",
    "    B7 = image.get('B2').getInfo()\n",
    "    B8 = image.get('B2').getInfo()\n",
    "    B9 = image.get('B2').getInfo()\n",
    "    B11 = image.get('B2').getInfo()\n",
    "    image_id = image.get('system:id').getInfo()\n",
    "    cloud_cover = image.get('CLOUDY_PIXEL_PERCENTAGE').getInfo()\n",
    "    \n",
    "    # Print for each image\n",
    "    print(f'Image ID: {image_id}, Cloud Cover: {cloud_cover}')"
   ]
  },
  {
   "cell_type": "code",
   "execution_count": null,
   "id": "ee84710c-e17a-4cc9-ac63-a510a7775445",
   "metadata": {},
   "outputs": [],
   "source": []
  }
 ],
 "metadata": {
  "kernelspec": {
   "display_name": "gee",
   "language": "python",
   "name": "gee"
  },
  "language_info": {
   "codemirror_mode": {
    "name": "ipython",
    "version": 3
   },
   "file_extension": ".py",
   "mimetype": "text/x-python",
   "name": "python",
   "nbconvert_exporter": "python",
   "pygments_lexer": "ipython3",
   "version": "3.11.10"
  }
 },
 "nbformat": 4,
 "nbformat_minor": 5
}
