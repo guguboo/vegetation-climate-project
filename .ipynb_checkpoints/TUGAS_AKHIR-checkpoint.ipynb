{
 "cells": [
  {
   "cell_type": "code",
   "execution_count": null,
   "id": "1c815155-4f08-4834-9565-416b1762c940",
   "metadata": {},
   "outputs": [],
   "source": [
    "import pandas as pd\n",
    "import geemap as gm\n",
    "import ee\n",
    "\n",
    "\n",
    "ee.Authenticate()\n",
    "ee.Initialize(project='vics-testing-gee')"
   ]
  },
  {
   "cell_type": "code",
   "execution_count": null,
   "id": "29f08932-b723-4643-b7d6-09ea9b0408aa",
   "metadata": {},
   "outputs": [],
   "source": []
  }
 ],
 "metadata": {
  "kernelspec": {
   "display_name": "gee",
   "language": "python",
   "name": "gee"
  },
  "language_info": {
   "codemirror_mode": {
    "name": "ipython",
    "version": 3
   },
   "file_extension": ".py",
   "mimetype": "text/x-python",
   "name": "python",
   "nbconvert_exporter": "python",
   "pygments_lexer": "ipython3",
   "version": "3.11.10"
  }
 },
 "nbformat": 4,
 "nbformat_minor": 5
}
