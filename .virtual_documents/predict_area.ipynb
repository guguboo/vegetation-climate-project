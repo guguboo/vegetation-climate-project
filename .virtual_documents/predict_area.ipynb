import numpy as np
import pandas as pd
import sklearn
from sklearn.neighbors import KNeighborsClassifier
from sklearn.model_selection import train_test_split, StratifiedKFold, cross_val_score
from tslearn.metrics import dtw
from tslearn.utils import to_time_series
from sklearn.model_selection import cross_validate
from sklearn.metrics import make_scorer, accuracy_score, precision_score, recall_score, f1_score
from sklearn.metrics import confusion_matrix
import matplotlib.pyplot as plt
import seaborn as sns
import pickle


folder_name = 'cluster_timeseries/'

collected_data = ["2013-2024"]

#dtw_knn_3 -> cibeber, instead of warungkondang
'''
cibeber1: 2021 - 2024 instead of 2020-2024
cibeber2: 20 clusters, snic size: 50
cibeber3: change clustering model, snic size: 20
cibeber4: new imagecol, with Sentinel 7
campaka
evi_campaka
'''

# https://code.earthengine.google.com/3e9149cd235c6fe731fa6cd55beeab55

tahun = "2013-2024"
evi = True
filename = "warungkondang"
prefix = "evi_" + filename if evi else filename



tahun_filename = "_".join(tahun.split("-"))
sawah_df = pd.read_csv(folder_name + filename + "_" + tahun_filename +".csv").drop("system:index", axis=1)
cluster_geo = sawah_df[['cluster_id', '.geo']]
sawah_df = sawah_df.drop(".geo", axis=1)


def df_preprocessing(df):
    columns = df.columns.tolist()
    renamed_columns = []
    
    for col in columns:
        colname = ""
        if "T48MYT" in col:
            colname = col.split("_")[3][:8]
        elif "LC08" in col:
            colname = col.split("_")[5]
        elif "LE07" in col:
            colname = col.split("_")[3]
        renamed_columns.append(colname)
    
    renamed_columns = renamed_columns[:-1]
    
    old_new_col = dict(zip(columns, renamed_columns))
    df = df.rename(columns=old_new_col)

    # menghapus kolom yg namanya duplikat
    df = df.loc[:, ~df.columns.duplicated(keep='first')]
    
    # mengurutkan kolom berdasarkan urutan tanggalnya
    df = df.reindex(sorted(df.columns), axis=1)
    
    df = df.ffill(axis=1)
    df = df.bfill(axis=1)

    return df


sawah_df = df_preprocessing(sawah_df)
sawah_df.head()


# load model KNN yg dari warungkondang
def dtw_score(x, y):
    x_formatted = to_time_series(x)
    # print(x_formatted)
    y_formatted = to_time_series(y)
    dtw_score = dtw(x_formatted, y_formatted)
    itakura_dtw = dtw(x_formatted, y_formatted, global_constraint="itakura", itakura_max_slope=2)
    sakoe_chiba_dtw = dtw(x_formatted, y_formatted, global_constraint="sakoe_chiba", sakoe_chiba_radius=2)
    return sakoe_chiba_dtw
    
def adjust_df(df):
    model_features = pickle.load(open(folder_name + 'saved_models/' + 'model_features.pkl', 'rb'))
    new_features = model_features.tolist()
    new_features.append('cluster_id')
    adjusted_df = df.reindex(new_features, axis=1)
    adjusted_df = adjusted_df.ffill(axis=1)
    adjusted_df = adjusted_df.bfill(axis=1)
    return adjusted_df
    
model = pickle.load(open(folder_name + 'saved_models/' + 'ts_classification.pkl', 'rb'))
sawah_df = adjust_df(sawah_df)


#with larger dataset
predict_all = model.predict(sawah_df.iloc[:, :-1])


unlabeled_df = sawah_df.copy()
unlabeled_df['label'] = predict_all

final_df = unlabeled_df.copy()
final_df = unlabeled_df[unlabeled_df.label == 'pandanwangi']


output_filename = filename + ".csv"
output_folder = 'classification_result/'

final_df.to_csv(folder_name + output_folder + output_filename)



