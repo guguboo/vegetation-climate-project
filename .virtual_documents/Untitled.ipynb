import os
import pandas as pd
import geemap as gm
import seaborn as sns
import matplotlib.pyplot as plt
from datetime import datetime, timedelta

import ee
ee.Authenticate()
ee.Initialize(project='vics-testing-gee')


var startDate = ee.Date.fromYMD(2024, 1, 1);
var endDate = ee.Date.fromYMD(2024, 12, 1);


MODIS = ee.ImageCollection('MODIS/061/MOD09A1').filter(ee.Filter.date(startDate, endDate))
MODIS



