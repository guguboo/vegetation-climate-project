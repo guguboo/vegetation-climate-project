{
 "cells": [
  {
   "cell_type": "code",
   "execution_count": 1,
   "id": "66cdd956-a414-48b6-a982-8c5a687be434",
   "metadata": {},
   "outputs": [],
   "source": [
    "import pandas as pd\n",
    "import numpy as np\n",
    "import sklearn\n",
    "from sklearn.neighbors import KNeighborsClassifier\n",
    "from sklearn.model_selection import train_test_split, StratifiedKFold, cross_val_score\n",
    "from tslearn.metrics import dtw\n",
    "from tslearn.utils import to_time_series\n",
    "from sklearn.model_selection import cross_validate\n",
    "from sklearn.metrics import make_scorer, accuracy_score, precision_score, recall_score, f1_score, classification_report, confusion_matrix\n",
    "import matplotlib.pyplot as plt\n",
    "import seaborn as sns\n",
    "import pickle"
   ]
  },
  {
   "cell_type": "code",
   "execution_count": 3,
   "id": "c3119838-5b67-4623-bd25-c32340ffb7fb",
   "metadata": {},
   "outputs": [],
   "source": [
    "folder_name = 'cluster_timeseries/'\n",
    "\n",
    "collected_data = [\"2013-2024\"]\n",
    "#dtw_knn_2 -> datasetnya lebih besar\n",
    "# https://code.earthengine.google.com/52607160b523092795f576172fb238b3\n",
    "\n",
    "labeled_df = pd.read_csv(folder_name + \"label_pandanwangi_ids.csv\").drop([\".geo\", \"system:index\"], axis=1)\n",
    "warungkondang_df = pd.read_csv(folder_name + \"evi_warungkondang_2013_2024.csv\").drop(\"system:index\", axis=1)\n",
    "cluster_geo = warungkondang_df[['cluster_id', '.geo']]\n",
    "warungkondang_df = warungkondang_df.drop(\".geo\", axis=1)"
   ]
  },
  {
   "cell_type": "code",
   "execution_count": 4,
   "id": "5826063a-c362-443d-9c74-21a5e4b99d77",
   "metadata": {},
   "outputs": [
    {
     "data": {
      "text/html": [
       "<div>\n",
       "<style scoped>\n",
       "    .dataframe tbody tr th:only-of-type {\n",
       "        vertical-align: middle;\n",
       "    }\n",
       "\n",
       "    .dataframe tbody tr th {\n",
       "        vertical-align: top;\n",
       "    }\n",
       "\n",
       "    .dataframe thead th {\n",
       "        text-align: right;\n",
       "    }\n",
       "</style>\n",
       "<table border=\"1\" class=\"dataframe\">\n",
       "  <thead>\n",
       "    <tr style=\"text-align: right;\">\n",
       "      <th></th>\n",
       "      <th>cluster_id</th>\n",
       "    </tr>\n",
       "    <tr>\n",
       "      <th>label</th>\n",
       "      <th></th>\n",
       "    </tr>\n",
       "  </thead>\n",
       "  <tbody>\n",
       "    <tr>\n",
       "      <th>non-pandanwangi</th>\n",
       "      <td>35</td>\n",
       "    </tr>\n",
       "    <tr>\n",
       "      <th>pandanwangi</th>\n",
       "      <td>33</td>\n",
       "    </tr>\n",
       "  </tbody>\n",
       "</table>\n",
       "</div>"
      ],
      "text/plain": [
       "                 cluster_id\n",
       "label                      \n",
       "non-pandanwangi          35\n",
       "pandanwangi              33"
      ]
     },
     "execution_count": 4,
     "metadata": {},
     "output_type": "execute_result"
    }
   ],
   "source": [
    "labeled_df.groupby('label').count()"
   ]
  },
  {
   "cell_type": "code",
   "execution_count": 5,
   "id": "3bf8cbb6-5b30-4fd8-8d6a-bf2a337c8e6c",
   "metadata": {},
   "outputs": [
    {
     "data": {
      "text/html": [
       "<div>\n",
       "<style scoped>\n",
       "    .dataframe tbody tr th:only-of-type {\n",
       "        vertical-align: middle;\n",
       "    }\n",
       "\n",
       "    .dataframe tbody tr th {\n",
       "        vertical-align: top;\n",
       "    }\n",
       "\n",
       "    .dataframe thead th {\n",
       "        text-align: right;\n",
       "    }\n",
       "</style>\n",
       "<table border=\"1\" class=\"dataframe\">\n",
       "  <thead>\n",
       "    <tr style=\"text-align: right;\">\n",
       "      <th></th>\n",
       "      <th>cluster_id</th>\n",
       "      <th>.geo</th>\n",
       "    </tr>\n",
       "  </thead>\n",
       "  <tbody>\n",
       "    <tr>\n",
       "      <th>0</th>\n",
       "      <td>864887829</td>\n",
       "      <td>{\"geodesic\":false,\"type\":\"MultiPolygon\",\"coord...</td>\n",
       "    </tr>\n",
       "    <tr>\n",
       "      <th>1</th>\n",
       "      <td>590686206</td>\n",
       "      <td>{\"geodesic\":false,\"type\":\"MultiPolygon\",\"coord...</td>\n",
       "    </tr>\n",
       "    <tr>\n",
       "      <th>2</th>\n",
       "      <td>-579235901</td>\n",
       "      <td>{\"geodesic\":false,\"type\":\"Polygon\",\"coordinate...</td>\n",
       "    </tr>\n",
       "    <tr>\n",
       "      <th>3</th>\n",
       "      <td>34695210</td>\n",
       "      <td>{\"geodesic\":false,\"type\":\"MultiPolygon\",\"coord...</td>\n",
       "    </tr>\n",
       "    <tr>\n",
       "      <th>4</th>\n",
       "      <td>-1265565538</td>\n",
       "      <td>{\"geodesic\":false,\"type\":\"Polygon\",\"coordinate...</td>\n",
       "    </tr>\n",
       "  </tbody>\n",
       "</table>\n",
       "</div>"
      ],
      "text/plain": [
       "   cluster_id                                               .geo\n",
       "0   864887829  {\"geodesic\":false,\"type\":\"MultiPolygon\",\"coord...\n",
       "1   590686206  {\"geodesic\":false,\"type\":\"MultiPolygon\",\"coord...\n",
       "2  -579235901  {\"geodesic\":false,\"type\":\"Polygon\",\"coordinate...\n",
       "3    34695210  {\"geodesic\":false,\"type\":\"MultiPolygon\",\"coord...\n",
       "4 -1265565538  {\"geodesic\":false,\"type\":\"Polygon\",\"coordinate..."
      ]
     },
     "execution_count": 5,
     "metadata": {},
     "output_type": "execute_result"
    }
   ],
   "source": [
    "cluster_geo.head()"
   ]
  },
  {
   "cell_type": "code",
   "execution_count": 6,
   "id": "fbb43fac-3d86-44a5-ac19-ab0c9952decc",
   "metadata": {},
   "outputs": [],
   "source": [
    "columns = warungkondang_df.columns.tolist()\n",
    "renamed_columns = []\n",
    "\n",
    "for col in columns:\n",
    "    colname = \"\"\n",
    "    if \"T48MYT\" in col:\n",
    "        colname = col.split(\"_\")[3][:8]\n",
    "    elif \"LC08\" in col:\n",
    "        colname = col.split(\"_\")[5]\n",
    "    elif \"LE07\" in col:\n",
    "        colname = col.split(\"_\")[3]\n",
    "    renamed_columns.append(colname)\n",
    "\n",
    "renamed_columns = renamed_columns[:-1]\n",
    "\n",
    "old_new_col = dict(zip(columns, renamed_columns))\n",
    "# print(old_new_col)"
   ]
  },
  {
   "cell_type": "code",
   "execution_count": 7,
   "id": "a24206fb-a625-4e1b-b728-9b887d34ccf5",
   "metadata": {},
   "outputs": [],
   "source": [
    "warungkondang_df = warungkondang_df.rename(columns=old_new_col)\n",
    "# print(warungkondang_df)\n",
    "# menghapus kolom yg namanya duplikat\n",
    "warungkondang_df = warungkondang_df.loc[:, ~warungkondang_df.columns.duplicated(keep='first')]\n",
    "\n",
    "# mengurutkan kolom berdasarkan urutan tanggalnya\n",
    "warungkondang_df = warungkondang_df.reindex(sorted(warungkondang_df.columns), axis=1)\n",
    "\n",
    "warungkondang_df = warungkondang_df.ffill(axis=1)\n",
    "warungkondang_df = warungkondang_df.bfill(axis=1)"
   ]
  },
  {
   "cell_type": "code",
   "execution_count": 8,
   "id": "f01b8ab4-07e0-4a57-9ae0-b166c11d93a8",
   "metadata": {},
   "outputs": [
    {
     "data": {
      "text/plain": [
       "(68, 2)"
      ]
     },
     "execution_count": 8,
     "metadata": {},
     "output_type": "execute_result"
    }
   ],
   "source": [
    "labeled_df.shape"
   ]
  },
  {
   "cell_type": "code",
   "execution_count": 9,
   "id": "0ad844aa-2df8-4b92-9927-5f9dbfc32a47",
   "metadata": {},
   "outputs": [],
   "source": [
    "warungkondang_labeled = warungkondang_df[warungkondang_df['cluster_id'].isin(labeled_df['cluster_id'])]\n",
    "warungkondang_not_labeled = warungkondang_df[~warungkondang_df['cluster_id'].isin(labeled_df['cluster_id'])]"
   ]
  },
  {
   "cell_type": "code",
   "execution_count": 10,
   "id": "4ba1722d-a9c8-44bb-8884-381ae59238d0",
   "metadata": {},
   "outputs": [
    {
     "name": "stdout",
     "output_type": "stream",
     "text": [
      "labeled data: (68, 2)\n",
      "non-labeled data: (163, 2)\n"
     ]
    }
   ],
   "source": [
    "print(\"labeled data: \" + str(warungkondang_labeled.shape))\n",
    "print(\"non-labeled data: \" + str(warungkondang_not_labeled.shape))"
   ]
  },
  {
   "cell_type": "code",
   "execution_count": 11,
   "id": "6a8fd196-ddc5-4ab1-9efb-11f63c385b75",
   "metadata": {},
   "outputs": [
    {
     "name": "stdout",
     "output_type": "stream",
     "text": [
      "(68, 1)\n"
     ]
    }
   ],
   "source": [
    "warungkondang_labeled = pd.merge(warungkondang_labeled, labeled_df, on='cluster_id', how='left')\n",
    "\n",
    "X_wk = warungkondang_labeled.iloc[:, :-2]\n",
    "y_wk = warungkondang_labeled['label']\n",
    "print(X_wk.shape)\n",
    "\n",
    "X_train, X_test, y_train, y_test = train_test_split(X_wk, y_wk, test_size=0.33, random_state=42, stratify=y_wk)"
   ]
  },
  {
   "cell_type": "code",
   "execution_count": 15,
   "id": "dc8c698f-e57a-4b78-bb27-7339880a5b4b",
   "metadata": {},
   "outputs": [],
   "source": [
    "def evaluate(y_test, y_pred):\n",
    "    # Overall metrics\n",
    "    accuracy = accuracy_score(y_test, y_pred)\n",
    "    precision_weighted = precision_score(y_test, y_pred, average='weighted')\n",
    "    recall_weighted = recall_score(y_test, y_pred, average='weighted')\n",
    "    f1_weighted = f1_score(y_test, y_pred, average='weighted')\n",
    "    \n",
    "    # Get unique classes\n",
    "    classes = np.unique(y_test)\n",
    "    \n",
    "    # Print overall metrics\n",
    "    print(\"Overall Metrics:\")\n",
    "    print(f\"Accuracy: {accuracy:.4f}\")\n",
    "    print(f\"Weighted Precision: {precision_weighted:.4f}\")\n",
    "    print(f\"Weighted Recall: {recall_weighted:.4f}\")\n",
    "    print(f\"Weighted F1 Score: {f1_weighted:.4f}\")\n",
    "    print(\"\\nPer-Class Metrics:\")\n",
    "    \n",
    "    # Calculate and print per-class metrics\n",
    "    precision_per_class = precision_score(y_test, y_pred, average=None, labels=classes)\n",
    "    recall_per_class = recall_score(y_test, y_pred, average=None, labels=classes)\n",
    "    f1_per_class = f1_score(y_test, y_pred, average=None, labels=classes)\n",
    "    \n",
    "    # Create a DataFrame for better display of per-class metrics\n",
    "    metrics_df = pd.DataFrame({\n",
    "        'Class': classes,\n",
    "        'Precision': precision_per_class,\n",
    "        'Recall': recall_per_class,\n",
    "        'F1 Score': f1_per_class\n",
    "    })\n",
    "    \n",
    "    # Display per-class metrics\n",
    "    for i, cls in enumerate(classes):\n",
    "        print(f\"Class {cls}:\")\n",
    "        print(f\"  Precision: {precision_per_class[i]:.4f}\")\n",
    "        print(f\"  Recall: {recall_per_class[i]:.4f}\")\n",
    "        print(f\"  F1 Score: {f1_per_class[i]:.4f}\")\n",
    "    \n",
    "    # Plot confusion matrix\n",
    "    cm = confusion_matrix(y_test, y_pred)\n",
    "    plt.figure(figsize=(10, 8))\n",
    "    sns.heatmap(cm, annot=True, fmt='d', cmap='Blues', \n",
    "                xticklabels=classes, \n",
    "                yticklabels=classes)\n",
    "    plt.xlabel('Predicted')\n",
    "    plt.ylabel('True')\n",
    "    plt.title('Confusion Matrix')\n",
    "    plt.show()\n",
    "    \n",
    "    # Also show classification report for a comprehensive view\n",
    "    print(\"\\nClassification Report:\")\n",
    "    print(classification_report(y_test, y_pred))\n",
    "    \n",
    "    return metrics_df"
   ]
  },
  {
   "cell_type": "code",
   "execution_count": 27,
   "id": "1129fcf7-7846-46ab-b332-0daad4e0d685",
   "metadata": {},
   "outputs": [],
   "source": [
    "# buat model KNN\n",
    "\n",
    "constraint = \"\" # '' atau 'itakura' 'sakoe_chiba'\n",
    "slope = 3\n",
    "radius = 4\n",
    "\n",
    "def dtw_distance(x, y):\n",
    "    x_formatted = to_time_series(x)\n",
    "    y_formatted = to_time_series(y) \n",
    "    dtw_score = dtw(x_formatted, y_formatted)\n",
    "    if(constraint == 'itakura'):\n",
    "        dtw_score = dtw(x_formatted, y_formatted, global_constraint=\"itakura\", itakura_max_slope=slope)\n",
    "    elif(constraint == 'sakoe_chiba'):\n",
    "        dtw_score = dtw(x_formatted, y_formatted, global_constraint=\"sakoe_chiba\", sakoe_chiba_radius=radius)\n",
    "    return dtw_score\n",
    "\n",
    "\n",
    "knn_pandanwangi = KNeighborsClassifier(n_neighbors = 5, metric=dtw_score)\n",
    "knn_pandanwangi.fit(X_train, y_train)\n",
    "\n",
    "y_pred = knn_1.predict(X_test)"
   ]
  },
  {
   "cell_type": "code",
   "execution_count": 28,
   "id": "02876a86-2efe-482c-a84c-61f6a8dbea7d",
   "metadata": {},
   "outputs": [
    {
     "name": "stdout",
     "output_type": "stream",
     "text": [
      "Overall Metrics:\n",
      "Accuracy: 0.6522\n",
      "Weighted Precision: 0.7014\n",
      "Weighted Recall: 0.6522\n",
      "Weighted F1 Score: 0.6217\n",
      "\n",
      "Per-Class Metrics:\n",
      "Class non-pandanwangi:\n",
      "  Precision: 0.6111\n",
      "  Recall: 0.9167\n",
      "  F1 Score: 0.7333\n",
      "Class pandanwangi:\n",
      "  Precision: 0.8000\n",
      "  Recall: 0.3636\n",
      "  F1 Score: 0.5000\n"
     ]
    },
    {
     "data": {
      "image/png": "[encoded data removed]",
      "text/plain": [
       "<Figure size 1000x800 with 2 Axes>"
      ]
     },
     "metadata": {},
     "output_type": "display_data"
    },
    {
     "name": "stdout",
     "output_type": "stream",
     "text": [
      "\n",
      "Classification Report:\n",
      "                 precision    recall  f1-score   support\n",
      "\n",
      "non-pandanwangi       0.61      0.92      0.73        12\n",
      "    pandanwangi       0.80      0.36      0.50        11\n",
      "\n",
      "       accuracy                           0.65        23\n",
      "      macro avg       0.71      0.64      0.62        23\n",
      "   weighted avg       0.70      0.65      0.62        23\n",
      "\n"
     ]
    },
    {
     "data": {
      "text/html": [
       "<div>\n",
       "<style scoped>\n",
       "    .dataframe tbody tr th:only-of-type {\n",
       "        vertical-align: middle;\n",
       "    }\n",
       "\n",
       "    .dataframe tbody tr th {\n",
       "        vertical-align: top;\n",
       "    }\n",
       "\n",
       "    .dataframe thead th {\n",
       "        text-align: right;\n",
       "    }\n",
       "</style>\n",
       "<table border=\"1\" class=\"dataframe\">\n",
       "  <thead>\n",
       "    <tr style=\"text-align: right;\">\n",
       "      <th></th>\n",
       "      <th>Class</th>\n",
       "      <th>Precision</th>\n",
       "      <th>Recall</th>\n",
       "      <th>F1 Score</th>\n",
       "    </tr>\n",
       "  </thead>\n",
       "  <tbody>\n",
       "    <tr>\n",
       "      <th>0</th>\n",
       "      <td>non-pandanwangi</td>\n",
       "      <td>0.611111</td>\n",
       "      <td>0.916667</td>\n",
       "      <td>0.733333</td>\n",
       "    </tr>\n",
       "    <tr>\n",
       "      <th>1</th>\n",
       "      <td>pandanwangi</td>\n",
       "      <td>0.800000</td>\n",
       "      <td>0.363636</td>\n",
       "      <td>0.500000</td>\n",
       "    </tr>\n",
       "  </tbody>\n",
       "</table>\n",
       "</div>"
      ],
      "text/plain": [
       "             Class  Precision    Recall  F1 Score\n",
       "0  non-pandanwangi   0.611111  0.916667  0.733333\n",
       "1      pandanwangi   0.800000  0.363636  0.500000"
      ]
     },
     "execution_count": 28,
     "metadata": {},
     "output_type": "execute_result"
    }
   ],
   "source": [
    "evaluate(y_test, y_pred)"
   ]
  },
  {
   "cell_type": "code",
   "execution_count": 29,
   "id": "7dcf255e-da70-46b2-976c-860d8efc8d99",
   "metadata": {},
   "outputs": [
    {
     "name": "stdout",
     "output_type": "stream",
     "text": [
      "\n",
      "Stratified k-fold results:\n",
      "Fold 1: 0.4286\n",
      "Fold 2: 0.4286\n",
      "Fold 3: 0.8571\n",
      "Fold 4: 0.7143\n",
      "Fold 5: 0.7143\n",
      "Fold 6: 0.8571\n",
      "Fold 7: 0.8571\n",
      "Fold 8: 0.7143\n",
      "Fold 9: 0.5000\n",
      "Fold 10: 0.6667\n",
      "\n",
      "Average accuracy (stratified): 0.6738\n",
      "Standard deviation (stratified): 0.1601\n"
     ]
    }
   ],
   "source": [
    "scoring = {\n",
    "    'accuracy': 'accuracy',\n",
    "    'precision': make_scorer(precision_score, average='weighted'),\n",
    "    'recall': make_scorer(recall_score, average='weighted'),\n",
    "    'f1': make_scorer(f1_score, average='weighted')\n",
    "}\n",
    "\n",
    "\n",
    "# print(scoring)\n",
    "skf = StratifiedKFold(n_splits=10, shuffle=True, random_state=42)\n",
    "\n",
    "stratified_cv_scores = cross_val_score(knn_1, X_wk, y_wk, cv=skf, scoring='accuracy')\n",
    "\n",
    "print(\"\\nStratified k-fold results:\")\n",
    "for i, score in enumerate(stratified_cv_scores):\n",
    "    print(f\"Fold {i+1}: {score:.4f}\")\n",
    "\n",
    "print(f\"\\nAverage accuracy (stratified): {np.mean(stratified_cv_scores):.4f}\")\n",
    "print(f\"Standard deviation (stratified): {np.std(stratified_cv_scores):.4f}\")"
   ]
  },
  {
   "cell_type": "code",
   "execution_count": 15,
   "id": "99a1bfc2-d895-4645-9506-a1c1caad28ce",
   "metadata": {},
   "outputs": [],
   "source": [
    "#with larger dataset\n",
    "final_model = KNeighborsClassifier(n_neighbors=5, metric=dtw_score)\n",
    "final_model.fit(X_wk, y_wk)\n",
    "\n",
    "pickle.dump(final_model, open(folder_name + 'saved_models/' + 'ts_classification.pkl', 'wb'))\n",
    "pickle.dump(X_wk.columns, open(folder_name + 'saved_models/' + 'model_features.pkl', 'wb'))\n",
    "\n",
    "predict_all = final_model.predict(warungkondang_not_labeled.iloc[:, :-1])\n",
    "# print(predict_all)"
   ]
  },
  {
   "cell_type": "code",
   "execution_count": 16,
   "id": "d2772e0f-cf62-4fe1-a73c-5de221482cca",
   "metadata": {},
   "outputs": [],
   "source": [
    "unlabeled_df = warungkondang_not_labeled.copy()\n",
    "unlabeled_df['label'] = predict_all\n",
    "predicted_df = unlabeled_df.copy()\n",
    "\n",
    "model_df = warungkondang_labeled.copy()"
   ]
  },
  {
   "cell_type": "code",
   "execution_count": 17,
   "id": "7c6f5730-d4fd-46dc-995f-80991ab1e2a2",
   "metadata": {},
   "outputs": [
    {
     "data": {
      "text/plain": [
       "(1277, 454)"
      ]
     },
     "execution_count": 17,
     "metadata": {},
     "output_type": "execute_result"
    }
   ],
   "source": [
    "final_df = pd.concat([model_df, predicted_df], axis=0)\n",
    "final_df.shape"
   ]
  },
  {
   "cell_type": "code",
   "execution_count": 20,
   "id": "0cbdfb30-7c71-4dae-ba63-a7c61b7d1f36",
   "metadata": {},
   "outputs": [],
   "source": [
    "evi = True\n",
    "output_filename = \"warungkondang\" + \".csv\"\n",
    "if evi:\n",
    "    output_filename = 'evi_' + output_filename\n",
    "    \n",
    "output_folder = 'classification_result/'\n",
    "\n",
    "final_df.to_csv(folder_name + output_folder + output_filename)"
   ]
  },
  {
   "cell_type": "code",
   "execution_count": null,
   "id": "ecde26f3-bafb-4f59-9834-6d4d401cb200",
   "metadata": {},
   "outputs": [],
   "source": []
  }
 ],
 "metadata": {
  "kernelspec": {
   "display_name": "gee",
   "language": "python",
   "name": "gee"
  },
  "language_info": {
   "codemirror_mode": {
    "name": "ipython",
    "version": 3
   },
   "file_extension": ".py",
   "mimetype": "text/x-python",
   "name": "python",
   "nbconvert_exporter": "python",
   "pygments_lexer": "ipython3",
   "version": "3.12.0"
  }
 },
 "nbformat": 4,
 "nbformat_minor": 5
}
