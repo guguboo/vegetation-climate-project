{
 "cells": [
  {
   "cell_type": "code",
   "execution_count": 56,
   "id": "66cdd956-a414-48b6-a982-8c5a687be434",
   "metadata": {},
   "outputs": [],
   "source": [
    "import pandas as pd\n",
    "import numpy as np\n",
    "import sklearn\n",
    "from sklearn.neighbors import KNeighborsClassifier\n",
    "from sklearn.model_selection import train_test_split, StratifiedKFold, cross_val_score\n",
    "from tslearn.metrics import dtw\n",
    "from tslearn.utils import to_time_series\n",
    "from sklearn.model_selection import cross_validate\n",
    "from sklearn.metrics import make_scorer, accuracy_score, precision_score, recall_score, f1_score\n",
    "from sklearn.metrics import confusion_matrix\n",
    "import matplotlib.pyplot as plt\n",
    "import seaborn as sns\n",
    "import pickle"
   ]
  },
  {
   "cell_type": "code",
   "execution_count": 57,
   "id": "c3119838-5b67-4623-bd25-c32340ffb7fb",
   "metadata": {},
   "outputs": [],
   "source": [
    "folder_name = 'cluster_timeseries/'\n",
    "\n",
    "collected_data = [\"2020-2024\"]\n",
    "\n",
    "#dtw_knn_2 -> datasetnya lebih besar\n",
    "# https://code.earthengine.google.com/52607160b523092795f576172fb238b3\n",
    "\n",
    "labeled_df = pd.read_csv(folder_name + \"label_pandanwangi_ids.csv\").drop([\".geo\", \"system:index\"], axis=1)\n",
    "warungkondang_df = pd.read_csv(folder_name + \"warungkondang_2020_2024.csv\").drop(\"system:index\", axis=1)\n",
    "cluster_geo = warungkondang_df[['cluster_id', '.geo']]\n",
    "warungkondang_df = warungkondang_df.drop(\".geo\", axis=1)"
   ]
  },
  {
   "cell_type": "code",
   "execution_count": 58,
   "id": "5826063a-c362-443d-9c74-21a5e4b99d77",
   "metadata": {},
   "outputs": [
    {
     "data": {
      "text/html": [
       "<div>\n",
       "<style scoped>\n",
       "    .dataframe tbody tr th:only-of-type {\n",
       "        vertical-align: middle;\n",
       "    }\n",
       "\n",
       "    .dataframe tbody tr th {\n",
       "        vertical-align: top;\n",
       "    }\n",
       "\n",
       "    .dataframe thead th {\n",
       "        text-align: right;\n",
       "    }\n",
       "</style>\n",
       "<table border=\"1\" class=\"dataframe\">\n",
       "  <thead>\n",
       "    <tr style=\"text-align: right;\">\n",
       "      <th></th>\n",
       "      <th>cluster_id</th>\n",
       "      <th>label</th>\n",
       "    </tr>\n",
       "  </thead>\n",
       "  <tbody>\n",
       "    <tr>\n",
       "      <th>0</th>\n",
       "      <td>2021138719</td>\n",
       "      <td>pandanwangi</td>\n",
       "    </tr>\n",
       "    <tr>\n",
       "      <th>1</th>\n",
       "      <td>590686206</td>\n",
       "      <td>pandanwangi</td>\n",
       "    </tr>\n",
       "    <tr>\n",
       "      <th>2</th>\n",
       "      <td>-579235901</td>\n",
       "      <td>pandanwangi</td>\n",
       "    </tr>\n",
       "    <tr>\n",
       "      <th>3</th>\n",
       "      <td>-83207285</td>\n",
       "      <td>pandanwangi</td>\n",
       "    </tr>\n",
       "    <tr>\n",
       "      <th>4</th>\n",
       "      <td>34695210</td>\n",
       "      <td>pandanwangi</td>\n",
       "    </tr>\n",
       "  </tbody>\n",
       "</table>\n",
       "</div>"
      ],
      "text/plain": [
       "   cluster_id        label\n",
       "0  2021138719  pandanwangi\n",
       "1   590686206  pandanwangi\n",
       "2  -579235901  pandanwangi\n",
       "3   -83207285  pandanwangi\n",
       "4    34695210  pandanwangi"
      ]
     },
     "execution_count": 58,
     "metadata": {},
     "output_type": "execute_result"
    }
   ],
   "source": [
    "labeled_df.head()"
   ]
  },
  {
   "cell_type": "code",
   "execution_count": 59,
   "id": "3bf8cbb6-5b30-4fd8-8d6a-bf2a337c8e6c",
   "metadata": {},
   "outputs": [
    {
     "data": {
      "text/html": [
       "<div>\n",
       "<style scoped>\n",
       "    .dataframe tbody tr th:only-of-type {\n",
       "        vertical-align: middle;\n",
       "    }\n",
       "\n",
       "    .dataframe tbody tr th {\n",
       "        vertical-align: top;\n",
       "    }\n",
       "\n",
       "    .dataframe thead th {\n",
       "        text-align: right;\n",
       "    }\n",
       "</style>\n",
       "<table border=\"1\" class=\"dataframe\">\n",
       "  <thead>\n",
       "    <tr style=\"text-align: right;\">\n",
       "      <th></th>\n",
       "      <th>cluster_id</th>\n",
       "      <th>.geo</th>\n",
       "    </tr>\n",
       "  </thead>\n",
       "  <tbody>\n",
       "    <tr>\n",
       "      <th>0</th>\n",
       "      <td>2021138719</td>\n",
       "      <td>{\"geodesic\":false,\"type\":\"MultiPolygon\",\"coord...</td>\n",
       "    </tr>\n",
       "    <tr>\n",
       "      <th>1</th>\n",
       "      <td>590686206</td>\n",
       "      <td>{\"geodesic\":false,\"type\":\"MultiPolygon\",\"coord...</td>\n",
       "    </tr>\n",
       "    <tr>\n",
       "      <th>2</th>\n",
       "      <td>-579235901</td>\n",
       "      <td>{\"geodesic\":false,\"type\":\"Polygon\",\"coordinate...</td>\n",
       "    </tr>\n",
       "    <tr>\n",
       "      <th>3</th>\n",
       "      <td>-83207285</td>\n",
       "      <td>{\"geodesic\":false,\"type\":\"Polygon\",\"coordinate...</td>\n",
       "    </tr>\n",
       "    <tr>\n",
       "      <th>4</th>\n",
       "      <td>34695210</td>\n",
       "      <td>{\"geodesic\":false,\"type\":\"MultiPolygon\",\"coord...</td>\n",
       "    </tr>\n",
       "  </tbody>\n",
       "</table>\n",
       "</div>"
      ],
      "text/plain": [
       "   cluster_id                                               .geo\n",
       "0  2021138719  {\"geodesic\":false,\"type\":\"MultiPolygon\",\"coord...\n",
       "1   590686206  {\"geodesic\":false,\"type\":\"MultiPolygon\",\"coord...\n",
       "2  -579235901  {\"geodesic\":false,\"type\":\"Polygon\",\"coordinate...\n",
       "3   -83207285  {\"geodesic\":false,\"type\":\"Polygon\",\"coordinate...\n",
       "4    34695210  {\"geodesic\":false,\"type\":\"MultiPolygon\",\"coord..."
      ]
     },
     "execution_count": 59,
     "metadata": {},
     "output_type": "execute_result"
    }
   ],
   "source": [
    "cluster_geo.head()"
   ]
  },
  {
   "cell_type": "code",
   "execution_count": 60,
   "id": "fbb43fac-3d86-44a5-ac19-ab0c9952decc",
   "metadata": {},
   "outputs": [],
   "source": [
    "columns = warungkondang_df.columns.tolist()\n",
    "renamed_columns = []\n",
    "\n",
    "for col in columns:\n",
    "    colname = \"\"\n",
    "    if \"T48MYT\" in col:\n",
    "        colname = col.split(\"_\")[3][:8]\n",
    "    elif \"LC08\" in col:\n",
    "        colname = col.split(\"_\")[5]\n",
    "    elif \"LE07\" in col:\n",
    "        colname = col.split(\"_\")[3]\n",
    "    renamed_columns.append(colname)\n",
    "\n",
    "renamed_columns = renamed_columns[:-1]\n",
    "\n",
    "old_new_col = dict(zip(columns, renamed_columns))\n",
    "# print(old_new_col)"
   ]
  },
  {
   "cell_type": "code",
   "execution_count": 61,
   "id": "a24206fb-a625-4e1b-b728-9b887d34ccf5",
   "metadata": {},
   "outputs": [],
   "source": [
    "warungkondang_df = warungkondang_df.rename(columns=old_new_col)\n",
    "# print(warungkondang_df)\n",
    "# menghapus kolom yg namanya duplikat\n",
    "warungkondang_df = warungkondang_df.loc[:, ~warungkondang_df.columns.duplicated(keep='first')]\n",
    "\n",
    "# mengurutkan kolom berdasarkan urutan tanggalnya\n",
    "warungkondang_df = warungkondang_df.reindex(sorted(warungkondang_df.columns), axis=1)\n",
    "\n",
    "warungkondang_df = warungkondang_df.ffill(axis=1)\n",
    "warungkondang_df = warungkondang_df.bfill(axis=1)"
   ]
  },
  {
   "cell_type": "code",
   "execution_count": 62,
   "id": "f01b8ab4-07e0-4a57-9ae0-b166c11d93a8",
   "metadata": {},
   "outputs": [
    {
     "data": {
      "text/plain": [
       "(75, 2)"
      ]
     },
     "execution_count": 62,
     "metadata": {},
     "output_type": "execute_result"
    }
   ],
   "source": [
    "labeled_df.shape"
   ]
  },
  {
   "cell_type": "code",
   "execution_count": 63,
   "id": "0ad844aa-2df8-4b92-9927-5f9dbfc32a47",
   "metadata": {},
   "outputs": [],
   "source": [
    "warungkondang_labeled = warungkondang_df[warungkondang_df['cluster_id'].isin(labeled_df['cluster_id'])]\n",
    "warungkondang_not_labeled = warungkondang_df[~warungkondang_df['cluster_id'].isin(labeled_df['cluster_id'])]"
   ]
  },
  {
   "cell_type": "code",
   "execution_count": 64,
   "id": "4ba1722d-a9c8-44bb-8884-381ae59238d0",
   "metadata": {},
   "outputs": [
    {
     "name": "stdout",
     "output_type": "stream",
     "text": [
      "labeled data: (75, 410)\n",
      "non-labeled data: (187, 410)\n"
     ]
    }
   ],
   "source": [
    "print(\"labeled data: \" + str(warungkondang_labeled.shape))\n",
    "print(\"non-labeled data: \" + str(warungkondang_not_labeled.shape))"
   ]
  },
  {
   "cell_type": "code",
   "execution_count": 65,
   "id": "6a8fd196-ddc5-4ab1-9efb-11f63c385b75",
   "metadata": {},
   "outputs": [
    {
     "name": "stdout",
     "output_type": "stream",
     "text": [
      "(75, 409)\n"
     ]
    }
   ],
   "source": [
    "warungkondang_labeled = pd.merge(warungkondang_labeled, labeled_df, on='cluster_id', how='left')\n",
    "\n",
    "X_wk = warungkondang_labeled.iloc[:, :-2]\n",
    "y_wk = warungkondang_labeled['label']\n",
    "print(X_wk.shape)\n",
    "\n",
    "X_train, X_test, y_train, y_test = train_test_split(X_wk, y_wk, test_size=0.33, random_state=42, stratify=y_wk)"
   ]
  },
  {
   "cell_type": "code",
   "execution_count": 66,
   "id": "1129fcf7-7846-46ab-b332-0daad4e0d685",
   "metadata": {},
   "outputs": [],
   "source": [
    "# buat model KNN\n",
    "\n",
    "def dtw_score(x, y):\n",
    "    x_formatted = to_time_series(x)\n",
    "    y_formatted = to_time_series(y)\n",
    "    dtw_score = dtw(x_formatted, y_formatted)\n",
    "    itakura_dtw = dtw(x_formatted, y_formatted, global_constraint=\"itakura\", itakura_max_slope=2)\n",
    "    sakoe_chiba_dtw = dtw(x_formatted, y_formatted, global_constraint=\"sakoe_chiba\", sakoe_chiba_radius=2)\n",
    "    return sakoe_chiba_dtw\n",
    "    \n",
    "    \n",
    "\n",
    "knn_1 = KNeighborsClassifier(n_neighbors = 5, metric=dtw_score)\n",
    "knn_1.fit(X_train, y_train)\n",
    "\n",
    "y_pred = knn_1.predict(X_test)"
   ]
  },
  {
   "cell_type": "code",
   "execution_count": 67,
   "id": "dc8c698f-e57a-4b78-bb27-7339880a5b4b",
   "metadata": {},
   "outputs": [],
   "source": [
    "def evaluate(y_test, y_pred):\n",
    "    accuracy = accuracy_score(y_test, y_pred)\n",
    "    precision = precision_score(y_test, y_pred, average='weighted')\n",
    "    recall = recall_score(y_test, y_pred, average='weighted')\n",
    "    f1 = f1_score(y_test, y_pred, average='weighted')\n",
    "    \n",
    "    print(f\"Accuracy: {accuracy:.4f}\")\n",
    "    print(f\"Precision: {precision:.4f}\")\n",
    "    print(f\"Recall: {recall:.4f}\")\n",
    "    print(f\"F1 Score: {f1:.4f}\")\n",
    "    \n",
    "    cm = confusion_matrix(y_test, y_pred)\n",
    "    plt.figure(figsize=(10, 8))\n",
    "    sns.heatmap(cm, annot=True, fmt='d', cmap='Blues', \n",
    "                xticklabels=np.unique(y_test), \n",
    "                yticklabels=np.unique(y_test))\n",
    "    plt.xlabel('Predicted')\n",
    "    plt.ylabel('True')\n",
    "    plt.title('Confusion Matrix')\n",
    "    plt.show()"
   ]
  },
  {
   "cell_type": "code",
   "execution_count": 68,
   "id": "02876a86-2efe-482c-a84c-61f6a8dbea7d",
   "metadata": {},
   "outputs": [
    {
     "name": "stdout",
     "output_type": "stream",
     "text": [
      "Accuracy: 1.0000\n",
      "Precision: 1.0000\n",
      "Recall: 1.0000\n",
      "F1 Score: 1.0000\n"
     ]
    },
    {
     "data": {
      "image/png": "[encoded data removed]",
      "text/plain": [
       "<Figure size 1000x800 with 2 Axes>"
      ]
     },
     "metadata": {},
     "output_type": "display_data"
    }
   ],
   "source": [
    "evaluate(y_test, y_pred)"
   ]
  },
  {
   "cell_type": "code",
   "execution_count": 69,
   "id": "7dcf255e-da70-46b2-976c-860d8efc8d99",
   "metadata": {},
   "outputs": [
    {
     "name": "stdout",
     "output_type": "stream",
     "text": [
      "\n",
      "Stratified k-fold results:\n",
      "Fold 1: 1.0000\n",
      "Fold 2: 1.0000\n",
      "Fold 3: 1.0000\n",
      "Fold 4: 1.0000\n",
      "Fold 5: 1.0000\n",
      "Fold 6: 1.0000\n",
      "Fold 7: 1.0000\n",
      "Fold 8: 1.0000\n",
      "Fold 9: 1.0000\n",
      "Fold 10: 1.0000\n",
      "\n",
      "Average accuracy (stratified): 1.0000\n",
      "Standard deviation (stratified): 0.0000\n"
     ]
    }
   ],
   "source": [
    "scoring = {\n",
    "    'accuracy': 'accuracy',\n",
    "    'precision': make_scorer(precision_score, average='weighted'),\n",
    "    'recall': make_scorer(recall_score, average='weighted'),\n",
    "    'f1': make_scorer(f1_score, average='weighted')\n",
    "}\n",
    "\n",
    "\n",
    "# print(scoring)\n",
    "skf = StratifiedKFold(n_splits=10, shuffle=True, random_state=42)\n",
    "\n",
    "stratified_cv_scores = cross_val_score(knn_1, X_wk, y_wk, cv=skf, scoring='accuracy')\n",
    "\n",
    "print(\"\\nStratified k-fold results:\")\n",
    "for i, score in enumerate(stratified_cv_scores):\n",
    "    print(f\"Fold {i+1}: {score:.4f}\")\n",
    "\n",
    "print(f\"\\nAverage accuracy (stratified): {np.mean(stratified_cv_scores):.4f}\")\n",
    "print(f\"Standard deviation (stratified): {np.std(stratified_cv_scores):.4f}\")"
   ]
  },
  {
   "cell_type": "code",
   "execution_count": 70,
   "id": "99a1bfc2-d895-4645-9506-a1c1caad28ce",
   "metadata": {},
   "outputs": [
    {
     "name": "stdout",
     "output_type": "stream",
     "text": [
      "['pandanwangi' 'pandanwangi' 'pandanwangi' 'pandanwangi' 'pandanwangi'\n",
      " 'pandanwangi' 'pandanwangi' 'pandanwangi' 'pandanwangi' 'pandanwangi'\n",
      " 'pandanwangi' 'pandanwangi' 'pandanwangi' 'non-pandanwangi' 'pandanwangi'\n",
      " 'pandanwangi' 'pandanwangi' 'pandanwangi' 'pandanwangi' 'pandanwangi'\n",
      " 'pandanwangi' 'pandanwangi' 'pandanwangi' 'non-pandanwangi'\n",
      " 'non-pandanwangi' 'non-pandanwangi' 'non-pandanwangi' 'pandanwangi'\n",
      " 'non-pandanwangi' 'non-pandanwangi' 'non-pandanwangi' 'pandanwangi'\n",
      " 'pandanwangi' 'non-pandanwangi' 'non-pandanwangi' 'pandanwangi'\n",
      " 'pandanwangi' 'non-pandanwangi' 'non-pandanwangi' 'non-pandanwangi'\n",
      " 'non-pandanwangi' 'non-pandanwangi' 'non-pandanwangi' 'non-pandanwangi'\n",
      " 'non-pandanwangi' 'non-pandanwangi' 'non-pandanwangi' 'pandanwangi'\n",
      " 'pandanwangi' 'non-pandanwangi' 'non-pandanwangi' 'non-pandanwangi'\n",
      " 'non-pandanwangi' 'non-pandanwangi' 'non-pandanwangi' 'non-pandanwangi'\n",
      " 'non-pandanwangi' 'non-pandanwangi' 'non-pandanwangi' 'non-pandanwangi'\n",
      " 'non-pandanwangi' 'non-pandanwangi' 'non-pandanwangi' 'non-pandanwangi'\n",
      " 'non-pandanwangi' 'non-pandanwangi' 'non-pandanwangi' 'non-pandanwangi'\n",
      " 'non-pandanwangi' 'non-pandanwangi' 'non-pandanwangi' 'non-pandanwangi'\n",
      " 'non-pandanwangi' 'non-pandanwangi' 'non-pandanwangi' 'pandanwangi'\n",
      " 'non-pandanwangi' 'non-pandanwangi' 'non-pandanwangi' 'non-pandanwangi'\n",
      " 'non-pandanwangi' 'non-pandanwangi' 'non-pandanwangi' 'pandanwangi'\n",
      " 'non-pandanwangi' 'non-pandanwangi' 'non-pandanwangi' 'non-pandanwangi'\n",
      " 'non-pandanwangi' 'non-pandanwangi' 'non-pandanwangi' 'non-pandanwangi'\n",
      " 'non-pandanwangi' 'non-pandanwangi' 'non-pandanwangi' 'non-pandanwangi'\n",
      " 'non-pandanwangi' 'non-pandanwangi' 'non-pandanwangi' 'non-pandanwangi'\n",
      " 'non-pandanwangi' 'non-pandanwangi' 'non-pandanwangi' 'non-pandanwangi'\n",
      " 'non-pandanwangi' 'non-pandanwangi' 'non-pandanwangi' 'non-pandanwangi'\n",
      " 'non-pandanwangi' 'non-pandanwangi' 'pandanwangi' 'non-pandanwangi'\n",
      " 'non-pandanwangi' 'non-pandanwangi' 'non-pandanwangi' 'non-pandanwangi'\n",
      " 'non-pandanwangi' 'non-pandanwangi' 'non-pandanwangi' 'non-pandanwangi'\n",
      " 'non-pandanwangi' 'non-pandanwangi' 'non-pandanwangi' 'non-pandanwangi'\n",
      " 'non-pandanwangi' 'non-pandanwangi' 'pandanwangi' 'non-pandanwangi'\n",
      " 'non-pandanwangi' 'non-pandanwangi' 'non-pandanwangi' 'non-pandanwangi'\n",
      " 'non-pandanwangi' 'non-pandanwangi' 'non-pandanwangi' 'non-pandanwangi'\n",
      " 'non-pandanwangi' 'non-pandanwangi' 'non-pandanwangi' 'non-pandanwangi'\n",
      " 'non-pandanwangi' 'non-pandanwangi' 'non-pandanwangi' 'non-pandanwangi'\n",
      " 'non-pandanwangi' 'non-pandanwangi' 'non-pandanwangi' 'non-pandanwangi'\n",
      " 'non-pandanwangi' 'non-pandanwangi' 'non-pandanwangi' 'non-pandanwangi'\n",
      " 'non-pandanwangi' 'non-pandanwangi' 'non-pandanwangi' 'non-pandanwangi'\n",
      " 'non-pandanwangi' 'non-pandanwangi' 'non-pandanwangi' 'non-pandanwangi'\n",
      " 'non-pandanwangi' 'non-pandanwangi' 'non-pandanwangi' 'non-pandanwangi'\n",
      " 'non-pandanwangi' 'non-pandanwangi' 'non-pandanwangi' 'non-pandanwangi'\n",
      " 'non-pandanwangi' 'non-pandanwangi' 'non-pandanwangi' 'non-pandanwangi'\n",
      " 'non-pandanwangi' 'non-pandanwangi' 'non-pandanwangi' 'non-pandanwangi'\n",
      " 'non-pandanwangi' 'non-pandanwangi' 'non-pandanwangi' 'non-pandanwangi'\n",
      " 'non-pandanwangi' 'non-pandanwangi' 'non-pandanwangi' 'non-pandanwangi'\n",
      " 'non-pandanwangi' 'non-pandanwangi' 'non-pandanwangi']\n"
     ]
    }
   ],
   "source": [
    "#with larger dataset\n",
    "final_model = KNeighborsClassifier(n_neighbors=5, metric=dtw_score)\n",
    "final_model.fit(X_wk, y_wk)\n",
    "\n",
    "pickle.dump(final_model, open(folder_name + 'saved_models/' + 'ts_classification.pkl', 'wb'))\n",
    "pickle.dump(X_wk.columns, open(folder_name + 'saved_models/' + 'model_features.pkl', 'wb'))\n",
    "\n",
    "predict_all = final_model.predict(warungkondang_not_labeled.iloc[:, :-1])\n",
    "# print(predict_all)"
   ]
  },
  {
   "cell_type": "code",
   "execution_count": 71,
   "id": "d2772e0f-cf62-4fe1-a73c-5de221482cca",
   "metadata": {},
   "outputs": [],
   "source": [
    "unlabeled_df = warungkondang_not_labeled.copy()\n",
    "unlabeled_df['label'] = predict_all\n",
    "predicted_df = unlabeled_df.copy()\n",
    "\n",
    "model_df = warungkondang_labeled.copy()"
   ]
  },
  {
   "cell_type": "code",
   "execution_count": 72,
   "id": "7c6f5730-d4fd-46dc-995f-80991ab1e2a2",
   "metadata": {},
   "outputs": [
    {
     "data": {
      "text/plain": [
       "(262, 411)"
      ]
     },
     "execution_count": 72,
     "metadata": {},
     "output_type": "execute_result"
    }
   ],
   "source": [
    "final_df = pd.concat([model_df, predicted_df], axis=0)\n",
    "final_df.shape"
   ]
  },
  {
   "cell_type": "code",
   "execution_count": 73,
   "id": "0cbdfb30-7c71-4dae-ba63-a7c61b7d1f36",
   "metadata": {},
   "outputs": [],
   "source": [
    "output_filename = \"warungkondang\" + \".csv\"\n",
    "output_folder = 'classification_result/'\n",
    "\n",
    "final_df.to_csv(folder_name + output_folder + output_filename)"
   ]
  },
  {
   "cell_type": "code",
   "execution_count": null,
   "id": "ecde26f3-bafb-4f59-9834-6d4d401cb200",
   "metadata": {},
   "outputs": [],
   "source": []
  }
 ],
 "metadata": {
  "kernelspec": {
   "display_name": "gee",
   "language": "python",
   "name": "gee"
  },
  "language_info": {
   "codemirror_mode": {
    "name": "ipython",
    "version": 3
   },
   "file_extension": ".py",
   "mimetype": "text/x-python",
   "name": "python",
   "nbconvert_exporter": "python",
   "pygments_lexer": "ipython3",
   "version": "3.12.0"
  }
 },
 "nbformat": 4,
 "nbformat_minor": 5
}
