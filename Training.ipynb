{
 "cells": [
  {
   "cell_type": "code",
   "execution_count": 21,
   "metadata": {
    "id": "A9aRuN3e4WE9"
   },
   "outputs": [],
   "source": [
    "import torch\n",
    "from torch.utils.data import Dataset, DataLoader\n",
    "import torch.nn as nn\n",
    "import torch.nn.functional as F\n",
    "import torch.optim as optim\n",
    "\n",
    "Xtrain = torch.randn(10000, 5)\n",
    "Ytrain = torch.randn(10000, 2)\n",
    "Xval = torch.randn(100, 5)\n",
    "Yval = torch.randn(100, 2)\n",
    "\n",
    "class MyDataset(Dataset):\n",
    "  def __init__(self, X, Y):\n",
    "    super().__init__()\n",
    "    self.X = X\n",
    "    self.Y = Y\n",
    "\n",
    "  def __len__(self):\n",
    "    return self.X.shape[0]\n",
    "\n",
    "  def __getitem__(self, idx):\n",
    "    return self.X[idx], self.Y[idx]"
   ]
  },
  {
   "cell_type": "code",
   "execution_count": 22,
   "metadata": {
    "id": "2Aw0LEaq7bzE"
   },
   "outputs": [],
   "source": [
    "trainset = MyDataset(Xtrain, Ytrain)\n",
    "trainloader = DataLoader(trainset, batch_size=10, shuffle=True)\n",
    "valset = MyDataset(Xval, Yval)\n",
    "valloader = DataLoader(valset, batch_size=10)"
   ]
  },
  {
   "cell_type": "code",
   "execution_count": 23,
   "metadata": {
    "id": "86kHt_9b9XUB"
   },
   "outputs": [],
   "source": [
    "class MyModel(nn.Module):\n",
    "  def __init__(self):\n",
    "    super().__init__()\n",
    "    self.layer1 = nn.Linear(5, 10)\n",
    "    self.layer2 = nn.Linear(10, 30)\n",
    "    self.layer3 = nn.Linear(30, 5)\n",
    "    self.layer4 = nn.Linear(5, 2)\n",
    "\n",
    "  def forward(self, x):\n",
    "    x = F.relu(self.layer1(x))\n",
    "    x = F.relu(self.layer2(x))\n",
    "    x = F.relu(self.layer3(x))\n",
    "    return F.sigmoid(self.layer4(x))\n",
    "\n",
    "model = MyModel()\n",
    "optimizer = optim.SGD(model.parameters(), lr=0.001)"
   ]
  },
  {
   "cell_type": "code",
   "execution_count": 33,
   "metadata": {
    "colab": {
     "base_uri": "https://localhost:8080/"
    },
    "id": "FK9_gTf1CRxz",
    "outputId": "1d4c7c4e-3bd7-485b-b4ba-799f3c61940e"
   },
   "outputs": [
    {
     "name": "stdout",
     "output_type": "stream",
     "text": [
      "Epoch=1\n",
      "Avg Loss=0.10255587100982666\n",
      "Avg Val Acc=44.0\n",
      "Epoch=2\n",
      "Avg Loss=0.10232709348201752\n",
      "Avg Val Acc=43.0\n",
      "Epoch=3\n",
      "Avg Loss=0.10213044285774231\n",
      "Avg Val Acc=43.0\n",
      "Epoch=4\n",
      "Avg Loss=0.10196027159690857\n",
      "Avg Val Acc=43.0\n",
      "Epoch=5\n",
      "Avg Loss=0.10181260108947754\n",
      "Avg Val Acc=43.0\n",
      "Epoch=6\n",
      "Avg Loss=0.10168379545211792\n",
      "Avg Val Acc=43.0\n",
      "Epoch=7\n",
      "Avg Loss=0.10157114267349243\n",
      "Avg Val Acc=43.0\n",
      "Epoch=8\n",
      "Avg Loss=0.10147246718406677\n",
      "Avg Val Acc=43.0\n",
      "Epoch=9\n",
      "Avg Loss=0.10138536244630814\n",
      "Avg Val Acc=43.0\n",
      "Epoch=10\n",
      "Avg Loss=0.10130838304758072\n",
      "Avg Val Acc=42.0\n"
     ]
    }
   ],
   "source": [
    "epoch = 10\n",
    "for ei in range(epoch):\n",
    "  sum_loss = 0.0\n",
    "  for x, y in trainloader:\n",
    "    optimizer.zero_grad()\n",
    "    yt = model(x)\n",
    "    loss = F.mse_loss(yt, y)\n",
    "    with torch.no_grad():\n",
    "      sum_loss += loss\n",
    "    loss.backward()\n",
    "    optimizer.step()\n",
    "\n",
    "  with torch.no_grad():\n",
    "    ncorrect = 0\n",
    "    avg_loss = sum_loss / Xtrain.shape[0]\n",
    "    for x, y in valloader:\n",
    "      yt = model(x)\n",
    "      lt = torch.argmax(yt, dim=1) # kelas hasil prediksi\n",
    "      ll = torch.argmax(y, dim=1) # kelas hasil dari label\n",
    "      for i in range(lt.shape[0]):\n",
    "        if ll[i] == lt[i]:\n",
    "          ncorrect += 1\n",
    "    avg_val_acc = ncorrect / Xval.shape[0] * 100.0\n",
    "    print(f'Epoch={ei + 1}')\n",
    "    print(f'Avg Loss={avg_loss}')\n",
    "    print(f'Avg Val Acc={avg_val_acc}')\n"
   ]
  },
  {
   "cell_type": "code",
   "execution_count": 20,
   "metadata": {
    "colab": {
     "base_uri": "https://localhost:8080/"
    },
    "id": "WFiCrmzaEqaZ",
    "outputId": "8c2758da-9db0-405b-d090-4d3ac7bb92e0"
   },
   "outputs": [
    {
     "name": "stdout",
     "output_type": "stream",
     "text": [
      "tensor(10.)\n",
      "tensor(27.)\n"
     ]
    }
   ],
   "source": [
    "def f(x, y):\n",
    "  return x ** 2 + y ** 3\n",
    "\n",
    "a = torch.tensor(5.0, requires_grad=True)\n",
    "b = torch.tensor(3.0, requires_grad=True)\n",
    "c = f(a, b)\n",
    "c.backward()\n",
    "print(a.grad)\n",
    "print(b.grad)\n"
   ]
  }
 ],
 "metadata": {
  "colab": {
   "provenance": []
  },
  "kernelspec": {
   "display_name": "Python 3 (ipykernel)",
   "language": "python",
   "name": "python3"
  },
  "language_info": {
   "codemirror_mode": {
    "name": "ipython",
    "version": 3
   },
   "file_extension": ".py",
   "mimetype": "text/x-python",
   "name": "python",
   "nbconvert_exporter": "python",
   "pygments_lexer": "ipython3",
   "version": "3.13.0"
  }
 },
 "nbformat": 4,
 "nbformat_minor": 4
}
