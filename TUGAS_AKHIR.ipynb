{
 "cells": [
  {
   "cell_type": "code",
   "execution_count": 1,
   "id": "1c815155-4f08-4834-9565-416b1762c940",
   "metadata": {},
   "outputs": [
    {
     "data": {
      "text/html": [
       "<p>To authorize access needed by Earth Engine, open the following\n",
       "        URL in a web browser and follow the instructions:</p>\n",
       "        <p><a href=https://code.earthengine.google.com/client-auth?scopes=https%3A//www.googleapis.com/auth/earthengine%20https%3A//www.googleapis.com/auth/cloud-platform%20https%3A//www.googleapis.com/auth/devstorage.full_control&request_id=6abV_vc8FUkq0kkhNrQRJ6gJEPEHrREPxrXAPtBAV6g&tc=0_Ls4XzvZAA2xv2ZIRt-fDHym8_9d5gp-k0H5Z_o_t4&cc=JMp4JztoHcurpj4wTsV1bc_L2AkECAg9QE-TIxnX-Nc>https://code.earthengine.google.com/client-auth?scopes=https%3A//www.googleapis.com/auth/earthengine%20https%3A//www.googleapis.com/auth/cloud-platform%20https%3A//www.googleapis.com/auth/devstorage.full_control&request_id=6abV_vc8FUkq0kkhNrQRJ6gJEPEHrREPxrXAPtBAV6g&tc=0_Ls4XzvZAA2xv2ZIRt-fDHym8_9d5gp-k0H5Z_o_t4&cc=JMp4JztoHcurpj4wTsV1bc_L2AkECAg9QE-TIxnX-Nc</a></p>\n",
       "        <p>The authorization workflow will generate a code, which you should paste in the box below.</p>\n",
       "        "
      ],
      "text/plain": [
       "<IPython.core.display.HTML object>"
      ]
     },
     "metadata": {},
     "output_type": "display_data"
    },
    {
     "name": "stdin",
     "output_type": "stream",
     "text": [
      "Enter verification code:  4/1AeanS0aS1rAfxrwnWuOognKzM1xVZQ0ye9e9IZobSmNQcRrfTa4CDS8LMnQ\n"
     ]
    },
    {
     "name": "stdout",
     "output_type": "stream",
     "text": [
      "\n",
      "Successfully saved authorization token.\n"
     ]
    },
    {
     "name": "stderr",
     "output_type": "stream",
     "text": [
      "*** Earth Engine *** Share your feedback by taking our Annual Developer Satisfaction Survey: https://google.qualtrics.com/jfe/form/SV_0JLhFqfSY1uiEaW?source=Init\n"
     ]
    }
   ],
   "source": [
    "import pandas as pd\n",
    "import geemap as gm\n",
    "import ee\n",
    "\n",
    "\n",
    "ee.Authenticate()\n",
    "ee.Initialize(project='vics-testing-gee')"
   ]
  },
  {
   "cell_type": "code",
   "execution_count": 4,
   "id": "29f08932-b723-4643-b7d6-09ea9b0408aa",
   "metadata": {},
   "outputs": [
    {
     "data": {
      "text/html": [
       "\n",
       "            <style>\n",
       "                .geemap-dark {\n",
       "                    --jp-widgets-color: white;\n",
       "                    --jp-widgets-label-color: white;\n",
       "                    --jp-ui-font-color1: white;\n",
       "                    --jp-layout-color2: #454545;\n",
       "                    background-color: #383838;\n",
       "                }\n",
       "\n",
       "                .geemap-dark .jupyter-button {\n",
       "                    --jp-layout-color3: #383838;\n",
       "                }\n",
       "\n",
       "                .geemap-colab {\n",
       "                    background-color: var(--colab-primary-surface-color, white);\n",
       "                }\n",
       "\n",
       "                .geemap-colab .jupyter-button {\n",
       "                    --jp-layout-color3: var(--colab-primary-surface-color, white);\n",
       "                }\n",
       "            </style>\n",
       "            "
      ],
      "text/plain": [
       "<IPython.core.display.HTML object>"
      ]
     },
     "metadata": {},
     "output_type": "display_data"
    }
   ],
   "source": [
    "kampung_budaya_pandanwangi_area = ee.Geometry.Polygon(\n",
    "            [[[107.06556483913806, -6.8553909408919225],\n",
    "              [107.06583842445076, -6.855614635587084],\n",
    "              [107.06609591651043, -6.85590224289769],\n",
    "              [107.06651434110744, -6.855667896213253],\n",
    "              [107.06641241716711, -6.855337680235036],\n",
    "              [107.06631049322684, -6.855092681135617],\n",
    "              [107.06628367113758, -6.855066050790071],\n",
    "              [107.06622466255001, -6.85508336050854],\n",
    "              [107.06617101837332, -6.855095344169543],\n",
    "              [107.06606373000294, -6.855087355066833],\n",
    "              [107.06594772443704, -6.855014787440743],\n",
    "              [107.06577271030285, -6.854995480464941],\n",
    "              [107.06544413973347, -6.855031431340886]]]);\n",
    "\n",
    "kampung_budaya_pandanwangi = ee.Geometry.Point([107.066538, -6.8543419]);\n"
   ]
  },
  {
   "cell_type": "code",
   "execution_count": 36,
   "id": "fd346b32-b309-4af5-8212-7527f36ea9b8",
   "metadata": {},
   "outputs": [
    {
     "data": {
      "text/html": [
       "\n",
       "            <style>\n",
       "                .geemap-dark {\n",
       "                    --jp-widgets-color: white;\n",
       "                    --jp-widgets-label-color: white;\n",
       "                    --jp-ui-font-color1: white;\n",
       "                    --jp-layout-color2: #454545;\n",
       "                    background-color: #383838;\n",
       "                }\n",
       "\n",
       "                .geemap-dark .jupyter-button {\n",
       "                    --jp-layout-color3: #383838;\n",
       "                }\n",
       "\n",
       "                .geemap-colab {\n",
       "                    background-color: var(--colab-primary-surface-color, white);\n",
       "                }\n",
       "\n",
       "                .geemap-colab .jupyter-button {\n",
       "                    --jp-layout-color3: var(--colab-primary-surface-color, white);\n",
       "                }\n",
       "            </style>\n",
       "            "
      ],
      "text/plain": [
       "<IPython.core.display.HTML object>"
      ]
     },
     "metadata": {},
     "output_type": "display_data"
    }
   ],
   "source": [
    "imageCollection = ee.ImageCollection('COPERNICUS/S2_SR_HARMONIZED').filterBounds(kampung_budaya_pandanwangi).filterDate('2024-6-01', '2024-12-31').sort('system:time_start', True);\n",
    "                  # .filter(ee.Filter.lt('CLOUDY_PIXEL_PERCENTAGE', 50)) # Filter awan di bawah 10%"
   ]
  },
  {
   "cell_type": "code",
   "execution_count": 37,
   "id": "2519f660-21cc-4ddc-b739-519ec8939f12",
   "metadata": {},
   "outputs": [
    {
     "data": {
      "text/html": [
       "\n",
       "            <style>\n",
       "                .geemap-dark {\n",
       "                    --jp-widgets-color: white;\n",
       "                    --jp-widgets-label-color: white;\n",
       "                    --jp-ui-font-color1: white;\n",
       "                    --jp-layout-color2: #454545;\n",
       "                    background-color: #383838;\n",
       "                }\n",
       "\n",
       "                .geemap-dark .jupyter-button {\n",
       "                    --jp-layout-color3: #383838;\n",
       "                }\n",
       "\n",
       "                .geemap-colab {\n",
       "                    background-color: var(--colab-primary-surface-color, white);\n",
       "                }\n",
       "\n",
       "                .geemap-colab .jupyter-button {\n",
       "                    --jp-layout-color3: var(--colab-primary-surface-color, white);\n",
       "                }\n",
       "            </style>\n",
       "            "
      ],
      "text/plain": [
       "<IPython.core.display.HTML object>"
      ]
     },
     "metadata": {},
     "output_type": "display_data"
    }
   ],
   "source": [
    "clipped_collection = imageCollection.map(lambda image: \n",
    "    image.clip(padi_pandanwangi).copyProperties(image, image.propertyNames())\n",
    ")"
   ]
  },
  {
   "cell_type": "code",
   "execution_count": 38,
   "id": "5834bba6-0571-4c1c-8bc6-df5aada9de44",
   "metadata": {},
   "outputs": [
    {
     "data": {
      "text/html": [
       "\n",
       "            <style>\n",
       "                .geemap-dark {\n",
       "                    --jp-widgets-color: white;\n",
       "                    --jp-widgets-label-color: white;\n",
       "                    --jp-ui-font-color1: white;\n",
       "                    --jp-layout-color2: #454545;\n",
       "                    background-color: #383838;\n",
       "                }\n",
       "\n",
       "                .geemap-dark .jupyter-button {\n",
       "                    --jp-layout-color3: #383838;\n",
       "                }\n",
       "\n",
       "                .geemap-colab {\n",
       "                    background-color: var(--colab-primary-surface-color, white);\n",
       "                }\n",
       "\n",
       "                .geemap-colab .jupyter-button {\n",
       "                    --jp-layout-color3: var(--colab-primary-surface-color, white);\n",
       "                }\n",
       "            </style>\n",
       "            "
      ],
      "text/plain": [
       "<IPython.core.display.HTML object>"
      ]
     },
     "metadata": {},
     "output_type": "display_data"
    }
   ],
   "source": [
    "def calculate_mean(image):\n",
    "    mean_dict = image.reduceRegion(\n",
    "        reducer=ee.Reducer.mean(),\n",
    "        scale=20,\n",
    "        maxPixels=1e13\n",
    "    )\n",
    "    return image.set(mean_dict)\n",
    "\n"
   ]
  },
  {
   "cell_type": "code",
   "execution_count": 39,
   "id": "e735f95e-1aca-427a-bf1e-62080cfc3bae",
   "metadata": {},
   "outputs": [
    {
     "data": {
      "text/html": [
       "\n",
       "            <style>\n",
       "                .geemap-dark {\n",
       "                    --jp-widgets-color: white;\n",
       "                    --jp-widgets-label-color: white;\n",
       "                    --jp-ui-font-color1: white;\n",
       "                    --jp-layout-color2: #454545;\n",
       "                    background-color: #383838;\n",
       "                }\n",
       "\n",
       "                .geemap-dark .jupyter-button {\n",
       "                    --jp-layout-color3: #383838;\n",
       "                }\n",
       "\n",
       "                .geemap-colab {\n",
       "                    background-color: var(--colab-primary-surface-color, white);\n",
       "                }\n",
       "\n",
       "                .geemap-colab .jupyter-button {\n",
       "                    --jp-layout-color3: var(--colab-primary-surface-color, white);\n",
       "                }\n",
       "            </style>\n",
       "            "
      ],
      "text/plain": [
       "<IPython.core.display.HTML object>"
      ]
     },
     "metadata": {},
     "output_type": "display_data"
    }
   ],
   "source": [
    "collection_with_means = clipped_collection.map(calculate_mean)"
   ]
  },
  {
   "cell_type": "code",
   "execution_count": 45,
   "id": "e6026a9c-4599-41ac-9fe0-fc27ec26e757",
   "metadata": {},
   "outputs": [
    {
     "data": {
      "text/html": [
       "\n",
       "            <style>\n",
       "                .geemap-dark {\n",
       "                    --jp-widgets-color: white;\n",
       "                    --jp-widgets-label-color: white;\n",
       "                    --jp-ui-font-color1: white;\n",
       "                    --jp-layout-color2: #454545;\n",
       "                    background-color: #383838;\n",
       "                }\n",
       "\n",
       "                .geemap-dark .jupyter-button {\n",
       "                    --jp-layout-color3: #383838;\n",
       "                }\n",
       "\n",
       "                .geemap-colab {\n",
       "                    background-color: var(--colab-primary-surface-color, white);\n",
       "                }\n",
       "\n",
       "                .geemap-colab .jupyter-button {\n",
       "                    --jp-layout-color3: var(--colab-primary-surface-color, white);\n",
       "                }\n",
       "            </style>\n",
       "            "
      ],
      "text/plain": [
       "<IPython.core.display.HTML object>"
      ]
     },
     "metadata": {},
     "output_type": "display_data"
    },
    {
     "name": "stdout",
     "output_type": "stream",
     "text": [
      "Image ID: COPERNICUS/S2_SR_HARMONIZED/20240602T025529_20240602T031009_T48MYT, Cloud Cover: 98.545957\n",
      "Image ID: COPERNICUS/S2_SR_HARMONIZED/20240607T025531_20240607T030955_T48MYT, Cloud Cover: 17.620158\n",
      "Image ID: COPERNICUS/S2_SR_HARMONIZED/20240612T025529_20240612T031235_T48MYT, Cloud Cover: 94.114429\n",
      "Image ID: COPERNICUS/S2_SR_HARMONIZED/20240617T025531_20240617T031846_T48MYT, Cloud Cover: 5.824821\n",
      "Image ID: COPERNICUS/S2_SR_HARMONIZED/20240622T025529_20240622T031234_T48MYT, Cloud Cover: 52.752876\n",
      "Image ID: COPERNICUS/S2_SR_HARMONIZED/20240627T025531_20240627T031018_T48MYT, Cloud Cover: 41.287461\n",
      "Image ID: COPERNICUS/S2_SR_HARMONIZED/20240627T025531_20240627T031952_T48MYT, Cloud Cover: 58.07634\n",
      "Image ID: COPERNICUS/S2_SR_HARMONIZED/20240702T025529_20240702T031232_T48MYT, Cloud Cover: 57.626814\n",
      "Image ID: COPERNICUS/S2_SR_HARMONIZED/20240707T025531_20240707T031145_T48MYT, Cloud Cover: 74.361563\n",
      "Image ID: COPERNICUS/S2_SR_HARMONIZED/20240712T025529_20240712T031251_T48MYT, Cloud Cover: 11.25165\n",
      "Image ID: COPERNICUS/S2_SR_HARMONIZED/20240717T025551_20240717T031431_T48MYT, Cloud Cover: 8.538038\n",
      "Image ID: COPERNICUS/S2_SR_HARMONIZED/20240722T025529_20240722T030732_T48MYT, Cloud Cover: 3.938079\n",
      "Image ID: COPERNICUS/S2_SR_HARMONIZED/20240727T025531_20240727T031433_T48MYT, Cloud Cover: 3.617859\n",
      "Image ID: COPERNICUS/S2_SR_HARMONIZED/20240801T025529_20240801T031004_T48MYT, Cloud Cover: 36.543626\n",
      "Image ID: COPERNICUS/S2_SR_HARMONIZED/20240806T025551_20240806T031901_T48MYT, Cloud Cover: 6.920046\n",
      "Image ID: COPERNICUS/S2_SR_HARMONIZED/20240811T025529_20240811T031942_T48MYT, Cloud Cover: 22.536761\n",
      "Image ID: COPERNICUS/S2_SR_HARMONIZED/20240816T025551_20240816T031503_T48MYT, Cloud Cover: 60.152566\n",
      "Image ID: COPERNICUS/S2_SR_HARMONIZED/20240821T025529_20240821T031634_T48MYT, Cloud Cover: 3.166945\n",
      "Image ID: COPERNICUS/S2_SR_HARMONIZED/20240826T025521_20240826T031227_T48MYT, Cloud Cover: 10.804164\n",
      "Image ID: COPERNICUS/S2_SR_HARMONIZED/20240831T025529_20240831T031842_T48MYT, Cloud Cover: 6.505785\n",
      "Image ID: COPERNICUS/S2_SR_HARMONIZED/20240905T025521_20240905T031250_T48MYT, Cloud Cover: 51.22335\n",
      "Image ID: COPERNICUS/S2_SR_HARMONIZED/20240910T025529_20240910T031705_T48MYT, Cloud Cover: 94.700778\n",
      "Image ID: COPERNICUS/S2_SR_HARMONIZED/20240915T025521_20240915T031716_T48MYT, Cloud Cover: 17.164706\n",
      "Image ID: COPERNICUS/S2_SR_HARMONIZED/20240920T025519_20240920T031734_T48MYT, Cloud Cover: 14.61007\n",
      "Image ID: COPERNICUS/S2_SR_HARMONIZED/20240925T025531_20240925T031042_T48MYT, Cloud Cover: 48.046815\n",
      "Image ID: COPERNICUS/S2_SR_HARMONIZED/20240930T025529_20240930T031746_T48MYT, Cloud Cover: 13.707282\n",
      "Image ID: COPERNICUS/S2_SR_HARMONIZED/20241005T025601_20241005T031548_T48MYT, Cloud Cover: 69.060427\n",
      "Image ID: COPERNICUS/S2_SR_HARMONIZED/20241010T025529_20241010T031001_T48MYT, Cloud Cover: 28.973064\n",
      "Image ID: COPERNICUS/S2_SR_HARMONIZED/20241015T025701_20241015T031657_T48MYT, Cloud Cover: 80.470955\n",
      "Image ID: COPERNICUS/S2_SR_HARMONIZED/20241020T025649_20241020T031113_T48MYT, Cloud Cover: 77.144885\n",
      "Image ID: COPERNICUS/S2_SR_HARMONIZED/20241025T025811_20241025T031834_T48MYT, Cloud Cover: 29.882184\n",
      "Image ID: COPERNICUS/S2_SR_HARMONIZED/20241030T025749_20241030T031724_T48MYT, Cloud Cover: 27.017742\n",
      "Image ID: COPERNICUS/S2_SR_HARMONIZED/20241104T025911_20241104T031859_T48MYT, Cloud Cover: 80.576688\n",
      "Image ID: COPERNICUS/S2_SR_HARMONIZED/20241109T025829_20241109T031858_T48MYT, Cloud Cover: 70.11143\n",
      "Image ID: COPERNICUS/S2_SR_HARMONIZED/20241114T030001_20241114T031741_T48MYT, Cloud Cover: 78.114998\n"
     ]
    }
   ],
   "source": [
    "image_list = collection_with_means.toList(collection_with_means.size())\n",
    "\n",
    "for i in range(image_list.size().getInfo()):\n",
    "    image = ee.Image(image_list.get(i))\n",
    "    \n",
    "    # Access properties or perform operations\n",
    "    date\n",
    "    image_id = image.get('system:id').getInfo()\n",
    "    cloud_cover = image.get('CLOUDY_PIXEL_PERCENTAGE').getInfo()\n",
    "    \n",
    "    # Print for each image\n",
    "    print(f'Image ID: {image_id}, Cloud Cover: {cloud_cover}')"
   ]
  },
  {
   "cell_type": "code",
   "execution_count": null,
   "id": "ee84710c-e17a-4cc9-ac63-a510a7775445",
   "metadata": {},
   "outputs": [],
   "source": []
  }
 ],
 "metadata": {
  "kernelspec": {
   "display_name": "gee",
   "language": "python",
   "name": "gee"
  },
  "language_info": {
   "codemirror_mode": {
    "name": "ipython",
    "version": 3
   },
   "file_extension": ".py",
   "mimetype": "text/x-python",
   "name": "python",
   "nbconvert_exporter": "python",
   "pygments_lexer": "ipython3",
   "version": "3.11.10"
  }
 },
 "nbformat": 4,
 "nbformat_minor": 5
}
